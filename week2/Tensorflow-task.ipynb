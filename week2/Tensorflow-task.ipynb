{
 "cells": [
  {
   "cell_type": "markdown",
   "metadata": {
    "slideshow": {
     "slide_type": "slide"
    }
   },
   "source": [
    "# Going deeper with Tensorflow\n",
    "\n",
    "In this video, we're going to study the tools you'll use to build deep learning models. Namely, [Tensorflow](https://www.tensorflow.org/).\n",
    "\n",
    "If you're running this notebook outside the course environment, you'll need to install tensorflow:\n",
    "* `pip install tensorflow` should install cpu-only TF on Linux & Mac OS\n",
    "* If you want GPU support from offset, see [TF install page](https://www.tensorflow.org/install/)"
   ]
  },
  {
   "cell_type": "code",
   "execution_count": 6,
   "metadata": {
    "collapsed": true
   },
   "outputs": [],
   "source": [
    "import sys\n",
    "sys.path.append(\"..\")\n",
    "import grading"
   ]
  },
  {
   "cell_type": "markdown",
   "metadata": {},
   "source": [
    "# Visualization"
   ]
  },
  {
   "cell_type": "markdown",
   "metadata": {},
   "source": [
    "Plase note that if you are running on the Coursera platform, you won't be able to access the tensorboard instance due to the network setup there. If you run the notebook locally, you should be able to access TensorBoard on http://127.0.0.1:7007/"
   ]
  },
  {
   "cell_type": "code",
   "execution_count": 7,
   "metadata": {},
   "outputs": [
    {
     "name": "stdout",
     "output_type": "stream",
     "text": [
      "/bin/sh: 1: killall: not found\r\n"
     ]
    }
   ],
   "source": [
    "! killall tensorboard\n",
    "import os\n",
    "os.system(\"tensorboard --logdir=/tmp/tboard --port=7007 &\");"
   ]
  },
  {
   "cell_type": "code",
   "execution_count": 8,
   "metadata": {
    "collapsed": true
   },
   "outputs": [],
   "source": [
    "import tensorflow as tf\n",
    "s = tf.InteractiveSession()"
   ]
  },
  {
   "cell_type": "markdown",
   "metadata": {},
   "source": [
    "# Warming up\n",
    "For starters, let's implement a python function that computes the sum of squares of numbers from 0 to N-1."
   ]
  },
  {
   "cell_type": "code",
   "execution_count": 9,
   "metadata": {
    "collapsed": true
   },
   "outputs": [],
   "source": [
    "import numpy as np\n",
    "def sum_sin(N):\n",
    "    return np.sum(np.arange(N)**2)"
   ]
  },
  {
   "cell_type": "code",
   "execution_count": 10,
   "metadata": {},
   "outputs": [
    {
     "name": "stdout",
     "output_type": "stream",
     "text": [
      "CPU times: user 24 ms, sys: 2.86 s, total: 2.88 s\n",
      "Wall time: 3.57 s\n"
     ]
    },
    {
     "data": {
      "text/plain": [
       "662921401752298880"
      ]
     },
     "execution_count": 10,
     "metadata": {},
     "output_type": "execute_result"
    }
   ],
   "source": [
    "%%time\n",
    "sum_sin(10**8)"
   ]
  },
  {
   "cell_type": "markdown",
   "metadata": {},
   "source": [
    "# Tensoflow teaser\n",
    "\n",
    "Doing the very same thing"
   ]
  },
  {
   "cell_type": "code",
   "execution_count": 11,
   "metadata": {
    "collapsed": true
   },
   "outputs": [],
   "source": [
    "# An integer parameter\n",
    "N = tf.placeholder('int64', name=\"input_to_your_function\")\n",
    "\n",
    "# A recipe on how to produce the same result\n",
    "result = tf.reduce_sum(tf.range(N)**2)"
   ]
  },
  {
   "cell_type": "code",
   "execution_count": 12,
   "metadata": {},
   "outputs": [
    {
     "data": {
      "text/plain": [
       "<tf.Tensor 'Sum:0' shape=() dtype=int64>"
      ]
     },
     "execution_count": 12,
     "metadata": {},
     "output_type": "execute_result"
    }
   ],
   "source": [
    "result"
   ]
  },
  {
   "cell_type": "code",
   "execution_count": 13,
   "metadata": {},
   "outputs": [
    {
     "name": "stdout",
     "output_type": "stream",
     "text": [
      "CPU times: user 412 ms, sys: 1.36 s, total: 1.77 s\n",
      "Wall time: 1.94 s\n"
     ]
    },
    {
     "data": {
      "text/plain": [
       "662921401752298880"
      ]
     },
     "execution_count": 13,
     "metadata": {},
     "output_type": "execute_result"
    }
   ],
   "source": [
    "%%time\n",
    "result.eval({N: 10**8})"
   ]
  },
  {
   "cell_type": "code",
   "execution_count": 14,
   "metadata": {
    "collapsed": true
   },
   "outputs": [],
   "source": [
    "writer = tf.summary.FileWriter(\"/tmp/tboard\", graph=s.graph)"
   ]
  },
  {
   "cell_type": "markdown",
   "metadata": {},
   "source": [
    "# How does it work?\n",
    "1. Define placeholders where you'll send inputs\n",
    "2. Make symbolic graph: a recipe for mathematical transformation of those placeholders\n",
    "3. Compute outputs of your graph with particular values for each placeholder\n",
    "  * `output.eval({placeholder:value})`\n",
    "  * `s.run(output, {placeholder:value})`\n",
    "\n",
    "So far there are two main entities: \"placeholder\" and \"transformation\"\n",
    "* Both can be numbers, vectors, matrices, tensors, etc.\n",
    "* Both can be int32/64, floats, booleans (uint8) of various size.\n",
    "\n",
    "* You can define new transformations as an arbitrary operation on placeholders and other transformations\n",
    " * `tf.reduce_sum(tf.arange(N)**2)` are 3 sequential transformations of placeholder `N`\n",
    " * There's a tensorflow symbolic version for every numpy function\n",
    "   * `a+b, a/b, a**b, ...` behave just like in numpy\n",
    "   * `np.mean` -> `tf.reduce_mean`\n",
    "   * `np.arange` -> `tf.range`\n",
    "   * `np.cumsum` -> `tf.cumsum`\n",
    "   * If if you can't find the op you need, see the [docs](https://www.tensorflow.org/api_docs/python).\n",
    "   \n",
    "`tf.contrib` has many high-level features, may be worth a look."
   ]
  },
  {
   "cell_type": "code",
   "execution_count": 15,
   "metadata": {
    "collapsed": true
   },
   "outputs": [],
   "source": [
    "with tf.name_scope(\"Placeholders_examples\"):\n",
    "    # Default placeholder that can be arbitrary float32\n",
    "    # scalar, vertor, matrix, etc.\n",
    "    arbitrary_input = tf.placeholder('float32')\n",
    "\n",
    "    # Input vector of arbitrary length\n",
    "    input_vector = tf.placeholder('float32', shape=(None,))\n",
    "\n",
    "    # Input vector that _must_ have 10 elements and integer type\n",
    "    fixed_vector = tf.placeholder('int32', shape=(10,))\n",
    "\n",
    "    # Matrix of arbitrary n_rows and 15 columns\n",
    "    # (e.g. a minibatch your data table)\n",
    "    input_matrix = tf.placeholder('float32', shape=(None, 15))\n",
    "    \n",
    "    # You can generally use None whenever you don't need a specific shape\n",
    "    input1 = tf.placeholder('float64', shape=(None, 100, None))\n",
    "    input2 = tf.placeholder('int32', shape=(None, None, 3, 224, 224))\n",
    "\n",
    "    # elementwise multiplication\n",
    "    double_the_vector = input_vector*2\n",
    "\n",
    "    # elementwise cosine\n",
    "    elementwise_cosine = tf.cos(input_vector)\n",
    "\n",
    "    # difference between squared vector and vector itself plus one\n",
    "    vector_squares = input_vector**2 - input_vector + 1"
   ]
  },
  {
   "cell_type": "code",
   "execution_count": 16,
   "metadata": {
    "collapsed": true
   },
   "outputs": [],
   "source": [
    "my_vector =  tf.placeholder('float32', shape=(None,), name=\"VECTOR_1\")\n",
    "my_vector2 = tf.placeholder('float32', shape=(None,))\n",
    "my_transformation = my_vector * my_vector2 / (tf.sin(my_vector) + 1)"
   ]
  },
  {
   "cell_type": "code",
   "execution_count": 17,
   "metadata": {},
   "outputs": [
    {
     "name": "stdout",
     "output_type": "stream",
     "text": [
      "Tensor(\"truediv:0\", shape=(?,), dtype=float32)\n"
     ]
    }
   ],
   "source": [
    "print(my_transformation)"
   ]
  },
  {
   "cell_type": "code",
   "execution_count": 18,
   "metadata": {},
   "outputs": [
    {
     "name": "stdout",
     "output_type": "stream",
     "text": [
      "[ 0.  1.  2.  3.  4.]\n"
     ]
    },
    {
     "data": {
      "text/plain": [
       "array([ 0.        ,  1.62913239,  2.09501147,  2.62899613,  0.        ], dtype=float32)"
      ]
     },
     "execution_count": 18,
     "metadata": {},
     "output_type": "execute_result"
    }
   ],
   "source": [
    "dummy = np.arange(5).astype('float32')\n",
    "print(dummy)\n",
    "my_transformation.eval({my_vector:dummy, my_vector2:dummy[::-1]})"
   ]
  },
  {
   "cell_type": "code",
   "execution_count": 19,
   "metadata": {
    "collapsed": true
   },
   "outputs": [],
   "source": [
    "writer.add_graph(my_transformation.graph)\n",
    "writer.flush()"
   ]
  },
  {
   "cell_type": "markdown",
   "metadata": {},
   "source": [
    "TensorBoard allows writing scalars, images, audio, histogram. You can read more on tensorboard usage [here](https://www.tensorflow.org/get_started/graph_viz)."
   ]
  },
  {
   "cell_type": "markdown",
   "metadata": {},
   "source": [
    "# Summary\n",
    "* Tensorflow is based on computation graphs\n",
    "* The graphs consist of placehlders and transformations"
   ]
  },
  {
   "cell_type": "markdown",
   "metadata": {},
   "source": [
    "# Mean squared error\n",
    "\n",
    "Your assignment is to implement mean squared error in tensorflow."
   ]
  },
  {
   "cell_type": "code",
   "execution_count": 20,
   "metadata": {},
   "outputs": [],
   "source": [
    "with tf.name_scope(\"MSE\"):\n",
    "    y_true = tf.placeholder(\"float32\", shape=(None,), name=\"y_true\")\n",
    "    y_predicted = tf.placeholder(\"float32\", shape=(None,), name=\"y_predicted\")\n",
    "    # Your code goes here\n",
    "    # You want to use tf.reduce_mean\n",
    "    mse = tf.reduce_mean((y_true - y_predicted)**2)\n",
    "def compute_mse(vector1, vector2):\n",
    "    return mse.eval({y_true: vector1, y_predicted: vector2})"
   ]
  },
  {
   "cell_type": "code",
   "execution_count": 21,
   "metadata": {},
   "outputs": [],
   "source": [
    "writer.add_graph(mse.graph)\n",
    "writer.flush()"
   ]
  },
  {
   "cell_type": "markdown",
   "metadata": {},
   "source": [
    "Tests and result submission. Please use the credentials obtained from the Coursera assignment page."
   ]
  },
  {
   "cell_type": "code",
   "execution_count": 22,
   "metadata": {
    "collapsed": true
   },
   "outputs": [],
   "source": [
    "import submit"
   ]
  },
  {
   "cell_type": "code",
   "execution_count": 23,
   "metadata": {},
   "outputs": [
    {
     "name": "stdout",
     "output_type": "stream",
     "text": [
      "Submitted to Coursera platform. See results on assignment page!\n"
     ]
    }
   ],
   "source": [
    "submit.submit_mse(compute_mse, 'quispecondorir@gmail.com', 'Cz8iu8qLFJHwK7Cl')"
   ]
  },
  {
   "cell_type": "markdown",
   "metadata": {},
   "source": [
    "# Variables\n",
    "\n",
    "The inputs and transformations have no value outside function call. This isn't too comfortable if you want your model to have parameters (e.g. network weights) that are always present, but can change their value over time.\n",
    "\n",
    "Tensorflow solves this with `tf.Variable` objects.\n",
    "* You can assign variable a value at any time in your graph\n",
    "* Unlike placeholders, there's no need to explicitly pass values to variables when `s.run(...)`-ing\n",
    "* You can use variables the same way you use transformations \n",
    " "
   ]
  },
  {
   "cell_type": "code",
   "execution_count": 24,
   "metadata": {
    "collapsed": true
   },
   "outputs": [],
   "source": [
    "# Creating a shared variable\n",
    "shared_vector_1 = tf.Variable(initial_value=np.ones(5),\n",
    "                              name=\"example_variable\")"
   ]
  },
  {
   "cell_type": "code",
   "execution_count": 25,
   "metadata": {},
   "outputs": [
    {
     "name": "stdout",
     "output_type": "stream",
     "text": [
      "Initial value [ 1.  1.  1.  1.  1.]\n"
     ]
    }
   ],
   "source": [
    "# Initialize variable(s) with initial values\n",
    "s.run(tf.global_variables_initializer())\n",
    "\n",
    "# Evaluating shared variable (outside symbolicd graph)\n",
    "print(\"Initial value\", s.run(shared_vector_1))\n",
    "\n",
    "# Within symbolic graph you use them just\n",
    "# as any other inout or transformation, not \"get value\" needed"
   ]
  },
  {
   "cell_type": "code",
   "execution_count": 26,
   "metadata": {},
   "outputs": [
    {
     "name": "stdout",
     "output_type": "stream",
     "text": [
      "New value [ 0.  1.  2.  3.  4.]\n"
     ]
    }
   ],
   "source": [
    "# Setting a new value\n",
    "s.run(shared_vector_1.assign(np.arange(5)))\n",
    "\n",
    "# Getting that new value\n",
    "print(\"New value\", s.run(shared_vector_1))"
   ]
  },
  {
   "cell_type": "markdown",
   "metadata": {},
   "source": [
    "# tf.gradients - why graphs matter\n",
    "* Tensorflow can compute derivatives and gradients automatically using the computation graph\n",
    "* True to its name it can manage matrix derivatives\n",
    "* Gradients are computed as a product of elementary derivatives via the chain rule:\n",
    "\n",
    "$$ {\\partial f(g(x)) \\over \\partial x} = {\\partial f(g(x)) \\over \\partial g(x)}\\cdot {\\partial g(x) \\over \\partial x} $$\n",
    "\n",
    "It can get you the derivative of any graph as long as it knows how to differentiate elementary operations"
   ]
  },
  {
   "cell_type": "code",
   "execution_count": 27,
   "metadata": {
    "collapsed": true
   },
   "outputs": [],
   "source": [
    "my_scalar = tf.placeholder('float32')\n",
    "\n",
    "scalar_squared = my_scalar**2\n",
    "\n",
    "# A derivative of scalar_squared by my_scalar\n",
    "derivative = tf.gradients(scalar_squared, [my_scalar, ])"
   ]
  },
  {
   "cell_type": "code",
   "execution_count": 29,
   "metadata": {},
   "outputs": [
    {
     "data": {
      "text/plain": [
       "[<tf.Tensor 'gradients/pow_1_grad/Reshape:0' shape=<unknown> dtype=float32>]"
      ]
     },
     "execution_count": 29,
     "metadata": {},
     "output_type": "execute_result"
    }
   ],
   "source": [
    "derivative"
   ]
  },
  {
   "cell_type": "code",
   "execution_count": 30,
   "metadata": {},
   "outputs": [
    {
     "data": {
      "image/png": "[encoded data removed]",
      "text/plain": [
       "<matplotlib.figure.Figure at 0x7f627d8c5e80>"
      ]
     },
     "metadata": {},
     "output_type": "display_data"
    }
   ],
   "source": [
    "import matplotlib.pyplot as plt\n",
    "%matplotlib inline\n",
    "\n",
    "x = np.linspace(-3, 3)\n",
    "x_squared, x_squared_der = s.run([scalar_squared, derivative[0]],\n",
    "                                 {my_scalar:x})\n",
    "\n",
    "plt.plot(x, x_squared,label=\"$x^2$\")\n",
    "plt.plot(x, x_squared_der, label=r\"$\\frac{dx^2}{dx}$\")\n",
    "plt.legend();"
   ]
  },
  {
   "cell_type": "markdown",
   "metadata": {},
   "source": [
    "# Why that rocks"
   ]
  },
  {
   "cell_type": "code",
   "execution_count": 36,
   "metadata": {},
   "outputs": [
    {
     "name": "stdout",
     "output_type": "stream",
     "text": [
      "[<tf.Tensor 'gradients_3/AddN:0' shape=<unknown> dtype=float32>]\n"
     ]
    }
   ],
   "source": [
    "my_vector = tf.placeholder('float32', [None])\n",
    "# Compute the gradient of the next weird function over my_scalar and my_vector\n",
    "# Warning! Trying to understand the meaning of that function may result in permanent brain damage\n",
    "weird_psychotic_function = tf.reduce_mean(\n",
    "    (my_vector+my_scalar)**(1+tf.nn.moments(my_vector,[0])[1]) + \n",
    "    1./ tf.atan(my_scalar))/(my_scalar**2 + 1) + 0.01*tf.sin(\n",
    "    2*my_scalar**1.5)*(tf.reduce_sum(my_vector)* my_scalar**2\n",
    "                      )*tf.exp((my_scalar-4)**2)/(\n",
    "    1+tf.exp((my_scalar-4)**2))*(1.-(tf.exp(-(my_scalar-4)**2)\n",
    "                                    )/(1+tf.exp(-(my_scalar-4)**2)))**2\n",
    "\n",
    "der_by_scalar = tf.gradients(weird_psychotic_function, my_scalar)\n",
    "der_by_vector = tf.gradients(weird_psychotic_function, my_vector)"
   ]
  },
  {
   "cell_type": "code",
   "execution_count": 35,
   "metadata": {},
   "outputs": [
    {
     "data": {
      "image/png": "[encoded data removed]",
      "text/plain": [
       "<matplotlib.figure.Figure at 0x7f61e31530f0>"
      ]
     },
     "metadata": {},
     "output_type": "display_data"
    }
   ],
   "source": [
    "# Plotting the derivative\n",
    "scalar_space = np.linspace(1, 7, 100)\n",
    "\n",
    "y = [s.run(weird_psychotic_function, {my_scalar:x, my_vector:[1, 2, 3]})\n",
    "     for x in scalar_space]\n",
    "\n",
    "plt.plot(scalar_space, y, label='function')\n",
    "\n",
    "y_der_by_scalar = [s.run(der_by_scalar,\n",
    "                         {my_scalar:x, my_vector:[1, 2, 3]})\n",
    "                   for x in scalar_space]\n",
    "plt.plot(scalar_space, y_der_by_scalar, label='derivative scalar')\n",
    "\n",
    "\n",
    "\n",
    "plt.grid()\n",
    "plt.legend();"
   ]
  },
  {
   "cell_type": "markdown",
   "metadata": {},
   "source": [
    "# Almost done - optimizers\n",
    "\n",
    "While you can perform gradient descent by hand with automatic grads from above, tensorflow also has some optimization methods implemented for you. Recall momentum & rmsprop?"
   ]
  },
  {
   "cell_type": "code",
   "execution_count": 45,
   "metadata": {},
   "outputs": [],
   "source": [
    "y_guess = tf.Variable(np.zeros(2, dtype='float32'))\n",
    "y_true = tf.range(1, 3, dtype='float32')\n",
    "#loss = tf.reduce_mean((y_guess - y_true ) \n",
    "loss = tf.reduce_mean((y_guess - y_true)**2) \n",
    "optimizer = tf.train.MomentumOptimizer(0.01, 5).minimize(\n",
    "    loss, var_list=y_guess)\n"
   ]
  },
  {
   "cell_type": "code",
   "execution_count": 46,
   "metadata": {},
   "outputs": [
    {
     "data": {
      "image/png": "[encoded data removed]",
      "text/plain": [
       "<matplotlib.figure.Figure at 0x7f61e2193470>"
      ]
     },
     "metadata": {},
     "output_type": "display_data"
    }
   ],
   "source": [
    "from matplotlib import animation, rc\n",
    "import matplotlib_utils\n",
    "from IPython.display import HTML, display_html\n",
    "\n",
    "fig, ax = plt.subplots()\n",
    "y_true_value = s.run(y_true)\n",
    "level_x = np.arange(0, 2, 0.02)\n",
    "level_y = np.arange(0, 3, 0.02)\n",
    "X, Y = np.meshgrid(level_x, level_y)\n",
    "Z = (X - y_true_value[0])**2 + (Y - y_true_value[1])**2\n",
    "ax.set_xlim(-0.02, 2)\n",
    "ax.set_ylim(-0.02, 3)\n",
    "s.run(tf.global_variables_initializer())\n",
    "ax.scatter(*s.run(y_true), c='red')\n",
    "contour = ax.contour(X, Y, Z, 10)\n",
    "ax.clabel(contour, inline=1, fontsize=10)\n",
    "line, = ax.plot([], [], lw=2)\n",
    "\n",
    "def init():\n",
    "    line.set_data([], [])\n",
    "    return (line,)\n",
    "\n",
    "guesses = [s.run(y_guess)]\n",
    "\n",
    "def animate(i):\n",
    "    s.run(optimizer)\n",
    "    guesses.append(s.run(y_guess))\n",
    "    line.set_data(*zip(*guesses))\n",
    "    return (line,)\n",
    "\n",
    "anim = animation.FuncAnimation(fig, animate, init_func=init,\n",
    "                               frames=400, interval=20, blit=True)"
   ]
  },
  {
   "cell_type": "code",
   "execution_count": 47,
   "metadata": {},
   "outputs": [
    {
     "data": {
      "text/html": [
       "<img src=\"data:image/jpeg;base64,/9j/4AAQSkZJRgABAQAAAQABAAD/2wBDAAIBAQEBAQIBAQECAgICAgQDAgICAgUEBAMEBgUGBgYFBgYGBwkIBgcJBwYGCAsICQoKCgoKBggLDAsKDAkKCgr/2wBDAQICAgICAgUDAwUKBwYHCgoKCgoKCgoKCgoKCgoKCgoKCgoKCgoKCgoKCgoKCgoKCgoKCgoKCgoKCgoKCgoKCgr/wAARCAEgAbADASIAAhEBAxEB/8QAHwAAAQUBAQEBAQEAAAAAAAAAAAECAwQFBgcICQoL/8QAtRAAAgEDAwIEAwUFBAQAAAF9AQIDAAQRBRIhMUEGE1FhByJxFDKBkaEII0KxwRVS0fAkM2JyggkKFhcYGRolJicoKSo0NTY3ODk6Q0RFRkdISUpTVFVWV1hZWmNkZWZnaGlqc3R1dnd4eXqDhIWGh4iJipKTlJWWl5iZmqKjpKWmp6ipqrKztLW2t7i5usLDxMXGx8jJytLT1NXW19jZ2uHi4%2BTl5ufo6erx8vP09fb3%2BPn6/8QAHwEAAwEBAQEBAQEBAQAAAAAAAAECAwQFBgcICQoL/8QAtREAAgECBAQDBAcFBAQAAQJ3AAECAxEEBSExBhJBUQdhcRMiMoEIFEKRobHBCSMzUvAVYnLRChYkNOEl8RcYGRomJygpKjU2Nzg5OkNERUZHSElKU1RVVldYWVpjZGVmZ2hpanN0dXZ3eHl6goOEhYaHiImKkpOUlZaXmJmaoqOkpaanqKmqsrO0tba3uLm6wsPExcbHyMnK0tPU1dbX2Nna4uPk5ebn6Onq8vP09fb3%2BPn6/9oADAMBAAIRAxEAPwD9/KKKKACiiigAooooAKKKKACiiigAooooAKKKKACiiigAooooAKKKKACiiigAooooAKKKKACiiigAooooAKKKKACiiigAooooAKKKKACiiigAooooAKKKKACiiigAooooAKKKKACiiigAooooAKKKKACiiigAorj/AAR%2B0J8A/iZ431n4Z/Dj44eD/EHiTw5JJH4h8P6J4ltbu%2B0t0kMTrcQRSNJAVkBQh1GGG088VZtfjb8Gb74p3PwLsvi54Ym8b2dgL288HRa/btqsFqQpE72gfzljIdPnK7fmXnkUAdPRRRQAUUUUAFFFFABRRRQAUUUUAFFFFABRRRQAUUUUAFFFFABRRRQAUUUUAFFFFABRRRQAUUUUAFFFFABRRRQAUUUUAFFFFABRRRQAUUUUAFFFFABRRRQAUUUUAFFFFABRRRQAUUUUAfIz%2BIrvxH/wUT0j40aVp3xZ1nw/4Z8I6/pWr2XiP4WX%2Bn6b4Ukmn0yMNpUo06CbVWu5bUtJiS%2BRUQyxvbxjbLy/g74f/EGL9qTw98N5fhR4oh17Qf2nfEnj3WvGcvhq6TSpvDt5oWp29tImpmP7NPIVvbDT/sqyGZPszMYxHCr19w0UAeIftr%2BO/wBp34WeFtF8bfAPx94D022ufF/hzw/qFj4v8B3uqyO%2Bq67Y6X9ojlttVsxGIkvDJ5ZR95jA3oDkWf8AhB/%2BChf/AEdB8Gf/AAw%2Brf8AzUUft4f8kQ0P/ss3w4/9TXRK9moA8Z/4Qf8A4KF/9HQfBn/ww%2Brf/NRVbWdA/bz8OaRdeIPEP7W3wQsLCyt3nvb29%2BB2qRQ28SAs0ju3ikKigAkkkAAZrtvhz8ddL%2BIPxC8S/DO58F65oGp%2BHTHIkWuxQx/2nZvJNEt5biOVy0JlglTLBW4UlQHUnwnxj4Y%2BMnh7SfE/w8%2BNujX%2BsaZ8RPFEvhqz8ZS%2BM3nuFS8eQ2EkOlRwrDawQsyQuY2EpCNOwKqSOulhHOfLN2emnVp9tbOyu/6dsZ1Uo3Svv/X3lHxB8b/27NYt/Cy/AD9pj4A%2BOLnxXqV3bWWPhRqtnboLWBp58y/8JHKfNCqAsRUFtwJKoC47H4Paz%2B3j8Zfh1p3xD0P9pT4RWkd4JYrqwvPgJqyz2V1DK8FxbSj/AISjiSKaOSNscbkOOKzfC3wc%2BK/xk%2BI914s8Z%2BCNU8Aatplhpl2de32sscviW1M0TXVtHHI3m272k8sT7wm%2BO5ZPvLlPb/gn8K5vhL4RuNG1LxGNX1PUtYvNV1nU0sVtUuLu5lMkjJCpYRoMgBdzHC5LMSSdcTTwtKlyxfvffvfqtNrbWflrpNKVWUrvb%2BvmeEeBx/wWR8RfFHWNF8XeKPgJ4e8H2FxPDpniCf4dapc32qbWxHMlnF4gKRRuAW/eThxkZTOcegf8IP8A8FC/%2BjoPgz/4YfVv/mor2aiuKclN3UUvS/6tm0U0tXc8Z/4Qf/goX/0dB8Gf/DD6t/8ANRR/wg//AAUL/wCjoPgz/wCGH1b/AOaivZqw/iF8T/ht8JPDsni/4qfEDRPDWlQ/63Ute1SGzgXjODJKyrn8amMZSdoq7K3PNf8AhB/%2BChf/AEdB8Gf/AAw%2Brf8AzUUf8IP/AMFC/wDo6D4M/wDhh9W/%2BaiuQn/4Kh/BjxncPpn7Lfwu%2BInxlulcx/afAPhOX%2BzEkzgB9SvDBaBf9pZH78HFNHiv/gqv8XOfD3wo%2BFXwe0%2BX5Wl8V65ceJtVjH98QWQgtVb2M7jPr1rs/s/ER/i2h/iaT%2B7WX/kpfJLrodj/AMIP/wAFC/8Ao6D4M/8Ahh9W/wDmorK8XH9tXwBpZ1vx5%2B2j8BNEsl%2B9eav8F9Stoh/wOTxUB%2BtYn/DB3xr%2BIH779or/AIKJfFfXc8PpvgZ7TwnYsvdStjGbgj63BODyTWt4R/4JZ/sB%2BE9UGv3H7NOh%2BItT6vqnjiWfX7h267i%2BoyTHOeeMY7Yo9lgYfHVcv8Mf1k1%2BQWgup4x4q/4KMP4T1I6Kf%2BCo37O2tXwyBZeD/gRrmuzE%2BgTTvEs5J7YxWb/w3d%2B3rr//ACSnwjrXi1H/AOPe8tP2O9a022l9CJdT8W2w2%2B/P0r7m8K%2BCvBvgTTRovgjwlpmjWa/dtNKsI7eIf8BjUD9K06Pa4CPw0pP1lb8Ix/ULw7HwPH8av%2BDgjxA4bwj%2BzN8I7OBz8k3jHRfsJx6lLTxNeMv0IzXffCy1/wCC7ev%2BI7T/AIW94p/ZT8N6I%2B77ZLo/hPxHqd9F8jbdsTalBE3z7QcyjAJPJAB%2BuqKieIpSjaNKK/8AAm/xl%2BgnJdjxn/hB/wDgoX/0dB8Gf/DD6t/81FH/AAg//BQv/o6D4M/%2BGH1b/wCaivZqK5STxn/hB/8AgoX/ANHQfBn/AMMPq3/zUUf8IP8A8FC/%2BjoPgz/4YfVv/mor2aigDxn/AIQf/goX/wBHQfBn/wAMPq3/AM1FH/CD/wDBQv8A6Og%2BDP8A4YfVv/mor2aigDxn/hB/%2BChf/R0HwZ/8MPq3/wA1FH/CD/8ABQvt%2B1B8Gf8Aww%2Brf/NRXs1FAHxJ4k1P/g4i8P7pdK0j9kfX0H3E0%2Bw8RW8jD3E96qg/8CNYI/aJ/wCC63hg%2Bd8Sv2XvBot1/wBZP4J8CQ6wf%2BAxyeMLaRv%2B%2BRX3zRXZHE0bWlRi/wDwJflJ/kVzLsfK/wCz98Sv%2BChPx%2B0zUr9/GnhvwRNpk8cU1j8Qf2YtX06WYspO6EjxY6TKMYLIxAJA71pfEvxF/wAFBvh74t8EeC7f9oL4M6he%2BNvEj6Xbr/wpTVYRaxRWNzeTXJ/4qZt4VLbbs%2BXLSKNwr6Wrzbx/%2BzPoHjv4y6D8dU%2BI/jDSdb8O288NhbafrKyaeVmiaKQtZ3EcsIYqeXRVf5R83XMU5Yd13Jq0bOy1lrZ27PfW/QFy3PBf2g/jh/wUO%2BCWpXmmaH8V/hH4kfQPDMniXxhJD8GdStk0nR42kDT5fxOTNKfJmKQqAWELfMOM8H%2B0H/wUD/ax%2BFXxMtP2dPhX8d/hZ48%2BKOqz29vpfhLT/gJq9vEs00SzKtxdP4mKQYhYSHg4HXGGKz/tqap8UPid8d9U/Zh/Y68Y2PiPxh4v8LWOjfFG5u9JLW/h%2B0tpnf7TLdRyCKF5VleN7bynJU/KFdgHm%2BDH/BO743fBm61y1ttJsNU8SxatqviWb4sahqKtd%2BI9RNsw0y2WH5pLaOKVy0gY7T5Sld2/CfQUMuy3DYeFbGfE1eMLtOV9pS6qF9krSktVpeR5c8X9enKhg5W5dJT6RfVRurSmu2sY/ad7RPWvhB4l/bo%2BJVhcaR/w2t%2BzbfeJtG2R%2BKtF8L/CbU74aRcnOYZCPFAcYKsAXRC20kKK7L/hB/8AgoX/ANHQfBn/AMMPq3/zUVxf7GXgrVn8b6F4i0TwR4g8OeGfBnwg07wmkHiXQZtNu9R1MzCa5d4plV5BCIkxNjY8l3OUZwSx9H%2BJf7bX7KnwY%2BKtv8FvjB8bNH8K%2BILuzjubOLxGz2VtcI5YKEu5lW3Z8qcoJN4yMgbhnw8RhpPEuFFOXWyV7b9FfbTvZNXe7PTUHG0U27feZn/CD/8ABQv/AKOg%2BDP/AIYfVv8A5qKP%2BEH/AOChf/R0HwZ/8MPq3/zUV6/peq6ZrmnQ6voupQXlpcxiS3urWZZI5UPRlZSQwPqKnri2EeM/8IP/AMFC/wDo6D4M/wDhh9W/%2BaivP/AY/wCCyGo/FLVfB/xL8UfATSfDkFvLNo3i/R/h1ql9HeYlVUhltpPEEMsEpRi5wHjGxhvPy5%2BpqKuM1FNOKd/XTzWv53Jaba1Pmf48eIv%2BCh/wV%2BHFx41sPjv8F9d1F7q3sdG0I/BrV7RtRvriVYbeBZB4jl2lpHUE7DhdzHhTV/4ieI/2wPhBo9pr3xY/ba%2BAnh2zvb2Ozgu9W%2BCmqQwtcPnam9/FIAzg8nA47V6B8VvgFqvxB%2BJ3hf4raX8TdStJfCt2bq28M30Edzo93N9nuIVmki2rKkyi5YrIkgA2qSjEDHC/tNQ/EnxB4m8NL4X%2BFfixvF2g3kEnhzWNKeCbQLk3Pl29/HeCQsUiSCSfJliRyozCxc7R10aVCqoQv3bezXZa6WVt9d3poZTnUhzO3a39I2bTwl/wUAv7WK/sP2qvgrPBPGskM0PwK1VkkQjIZSPFOCCDkEVJ/wAIP/wUL/6Og%2BDP/hh9W/8AmorzXUvjLrnh7X9M%2BLkXxMudB8NWvivUrSx8I2dtDHp0HhjSluE1C7mi2b9%2B%2B3d1cEbQkapw5DexfBv4%2B%2BJ/iF41m8DeO/hc3ha9l8N2uv6Vay6uLmd7KaR49tzGI1%2BzTq6YMeXHzcOSrKs1cFVpx5lqvy/ztdXtoOFeEnY4zUvGP7Zvwl%2BNPwq8NfFH4t/DDxL4f8eeNbvQdTtNA%2BF2o6ReW4j8P6vqcc0VxNrl2gPm6dGjK0JysjYKkA19A14z%2B1B/yW/9nH/ss19/6hXiivZq4zYKKKKACiiigAooooAKKKKACiiigDxn9vD/AJIhof8A2Wb4cf8Aqa6JXT%2BAf2lPhx8UPi34i%2BEHgODWNRufCgaPXtaj0eVdLtrxXVWsRdMAklyu7cyJu2gHJBGK5j9vD/kiGh/9lm%2BHH/qa6JXsqIkYIjQKCSSAMcnkmri6ai%2BZXfTW1v8AP00Jak2rM8u%2BLvwe%2BKHi/wCNXg74mfDHxjpHhz%2Bw7O9tNd1G6sHvLm/spzExs0h3JGo3xLIJnZtjoMRsGbPV2nwd%2BHyeJ7Dx7rPh621fxHplq1vZeItVto5byFGZiwR9oEedxB2BcjAPAFdPRVuvVcVG9rK2mmnm93v/AMASpxTb7hVbWNZ0jw9pVzr2v6rbWNjZwNNeXt5OsUUEajLO7sQFUAEkk4AFU/G48at4R1FfhxLpaa6bVhpT61FI9os2PlMqxsrsg7hWUnpkda8SOt%2BKv2nv2SPG/wAL/iLfaTpXjfR3u/D3ijEZgsBqUBR4ZQsjMyW1zG1tMoLMRHc7dxZc06VH2i5m9LpPur9bdv1NErnQ/EL9rnRra38Lr%2Bz9omnfEm58VR6hcab/AGP4khjtpYLKBZpglwFkR52EkYjh%2BXduLFkVGYeLeI/2k/G2seIvHnx48DfE3XI38H2eka/o3gW/mt4dP1fwsSseoRLGU3C/W5ttShLl2MU0duufLlUHV8I/Br4i/Gf40%2BIfGll4M1/4Z3UA0vV5dQ1PTY2iTxVbyPb3Eluqybby2ubGOGOZl2hl2bX3l9nr/gL9kj4Z6b4G0zw78X/DmgeONTsNdvdaGp6p4biEUN9dXMly5toZDKbeJXlIjj3uUCJ8xKg16V8DhFZq70vs3rq%2B8dtNGnrc09yJ3/jXw9deOPA2p%2BF9N8V6poM2q6bLbwa1pBSO8sGkQqs8XmoyrKhIYb0IBHKnpXjPw9/4JnfsieDPEUfj3xh4DuviJ4rTlvFvxS1WXxBfluzKbstHCR28mOMDsK99orzaeJxFGDjTk4p720/Fa/K9vIzUpJaDLe3gtIEtbWBI4o0CxxxqFVVAwAAOgFPoorAQUUVz/wASPiv8Lfg34bk8ZfF34k6B4V0iLPm6p4j1iCxt04zzJMyqPzpqMpOyV2NJydktToKK%2BVbz/gsN%2Byj4lvJdI/Zo8N/Eb4330LlJYvhD4AvNTtUYcfNfyrDYgZ4z5%2BB37UwftEf8FW/iv%2B7%2BE3/BPzwd8PbWT5oNX%2BMfxSSWXZ2LWOjQ3JVsc7WnU9jjrXV9RxK%2BNKP%2BJqP4N3/A6fqWIXxpR/xNL8G7/gfVtFfKY/Z0/wCCsHxF/wBL%2BJH/AAUZ8HeBkk4l0v4VfByGTYO4W61i5ujn38ketL/w6yHiT958X/8AgoR%2B0x4saTm5th8UTo1rJ6jydIgtcL/skn60fV8PH4qy%2BSk/0ig9hQj8VVfJSf6JH1U7pGpd2CqBkknAArkfEv7QXwF8GMyeMPjd4Q0kp98al4ltYCv13yDFeCp/wRR/4JqXbCbxd%2Bz5deKZs5kn8Z%2BONa1lpG9SLy8kX8gBXXeGv%2BCV/wDwTT8JKo0T9gb4QBk%2B7LdfD3T7iQf8DliZv1o5cAvtSf8A27FfnJhy4Jfak/kl%2BcmbWq/8FDv2AdCYprf7cvwesyv3hdfEzSoyP%2B%2BrgVjzf8FS/wDgmhA21/8AgoJ8Fyf9j4m6W38p67DSv2Nf2QdCULon7Knw2swv3Ra%2BBtPjx/3zCK2If2d/2f7ddkHwM8HIPRPDNoP5R0Xy/tP/AMk/yD/Ye0//ACX/ACPOrb/gqJ/wTUu2CQ/8FBPgrk9A/wAUNKX/ANCuBW9o37en7DPiJgnh/wDbP%2BE98W%2B6LP4i6ZLn/vmc10l1%2Bzf%2BzversvfgJ4LmB6iXwtaMP1jrB1j9hz9inxCpTX/2PvhbfBvvC8%2BH%2Bmy5/wC%2BoTR/wn/3/wDyQP8AYf7/AP5Kdn4X%2BK3wu8blV8F/EnQNXLfdGl6xBcZ%2Bnlsa36%2BdPFH/AASJ/wCCXvi8MNW/YH%2BFUW7qdL8G2tifwNsiEVgH/gi/%2BwRpJ8/4a%2BD/ABt4GuR/q7rwN8WfEOmGP/dSK%2B8sf98UcmAe05L1in%2BUg5cE9pyXrFP8pH1VRXyp/wAO1/iz4O/0r4I/8FR/2iNCuF/1UPifX9O8T2q%2BmU1Oylkb8Zaq614H/wCCu3wP0i68Qad%2B2N8DviFpVjA895N8Tfh7d%2BHJIYkG5ma7027kiQAAkubfAH8IprC0pu1Oqm/NSX6NA6FC11Vj87x/NNfifWpIAyTgDqTXyj8U/wBpb4r/ALW/jvUP2aP2FNZWz06wm%2BzePvjCE32mkA/ftbAggXF2R/EpwmcgjPmJ85ePP2z/ANvL9s74XWMMv7JPi62%2BF41eew8ea/8AAnUYtXvNegjJBWwGo/YJvsz4KuY4pW6qSeY2%2Bgv2df8AgpJ/wTJ%2BHOi6T%2Bz1pPjRfg1dWMQhtPBnxT8O3nha6Rs85bUo40nkZjkssjlmPJJNe1HLpZRD2lSCqV%2BkVaUYec0r3l1ULWW8/wCQ%2Bd9lj89usLdYZXTnH4qlt1Ttqod6llzbU9LzPev2cP2aPhT%2Byz8PY/h78K9GaJHk8/VNUu38y81S5P3ri4lxmRyc%2BgUcKAOK7%2Bq2kaxpHiDTINb0HVba%2BsrmMSW13ZzrLFKh6MrqSGHuDVmvnq9atiK0qlWTlJu7b3bPTo0KOFpRpUoqMY6JLRL%2Bv%2BH1Cs3xZ4N8IePtCn8LeOvCum61plyuLnTtWsY7mCUejRyAq34itKis03F3RqfNep/8Evfgb4V1K48UfsqeNPGHwS1meQzSSfDjXGh02eTqPO0u4EtlIgP8IiX6iq7eNP8Agpf%2Bzj/yPvw68M/Hvw3B9/WPBDLoHiRIxyzvp9y7Wly2OiwzRE9l7H6cortWPrT0rJVF/e1f/gStL8WXzt76njfwJ/b1/Zo%2BP/iN/h5oHjKfQPGkA/034f8AjXT5NI1y3bGSPslyFaUDu8XmJ/tV7JXCfHj9mL4AftO%2BHE8LfHn4UaR4ktoTus5b63xc2T/89Le4QrLbv/txure9eLP8EP24/wBkn/T/ANmT4qP8X/B0HLfDX4o6ps1e3jH8Gn63tyx6BY7xXUAY80daPZYTEfwpcku0tvlP/wCSS9QtGW2h9SUV45%2Bzx%2B3D8Gf2gfENz8MimqeDviDpsW/WPhv41svsGsWqjrIkbErdQ8ZE0DSRkEHIzivY65atGrQnyVFZ/wBfevNNrzJaadmeceOv2Vvg34s8N%2BMNM0PwVpOgan41tGi1nXdL0mFbiaQsHWWT5cSnzArsG4cj5s1d%2BEXwd1HwFrmuePvG3jM%2BI/FXiQWseq6uth9khW3tkdYLaCAO/lRI0s8mC7EvPISxzx3VFU8RWdNwcrp/8DrvbRaeSM/ZwUr2PGP2nWL/ABt/ZyJQr/xee/GD7eCvFHNez14z%2B1B/yW/9nH/ss19/6hXiivZqxLCiiigAooooAKKKKACiiigDwfwp8Zv2gtD/AGz7f9nT4heIPBHiTS9Z8I6r4iWLwr4cvLG98K20F7bQWK30s17cR3QuhNcKjrHakvYzFEkVZDFhfCv9qf4u67%2B2l4r%2BBvxY8TaJ4Z0W38T3Om%2BANAv/AIT63aXPie2i0u3uzcWuvT3Y0%2B7kV2uy1vBA0gjtXJACM46L4TfsS3nwc%2BIXjf4jeHP2svibd3Xj7XJ9V1uDVrbw7OFndkESxzf2QLjyreFFt4YnldI4uApb563779lqDxF8ctF%2BNfj343%2BNfEUPhbWrnV/CPg7Ujpkek6LfTWdxZNPF9msorqYrbXd1GgubiZVE7EDcqMoBxn/BQv4ufCjw14P8GfCjxH8TvD2n%2BKfEHxh%2BHsug%2BGr3WoItQ1JI/GejNI1vbs4kmCqrFiikAKScYNfQ9eM/t4f8kQ0P/ss3w4/9TXRK9moAK4n4%2B/tD/CH9mP4ezfEz4z%2BL4dK01JVgtY9jS3N/cvxHbW0KAvcTOeFjQFjyegJGP%2B1P%2B1J4M/Za8D2uuavpF7r3iLXb5dN8F%2BC9GAfUPEOouPktoF7AfeeVvkjQFm7A8J%2Bzt%2ByL4z1P4gwfta/tp6rZeJfii8TDQdItiX0fwLbP1tNORuGnIwJbxv3khGFKpw3ZRw8FT9tXdodEt5PsuyXWT0Wyu9FSirXex6J%2BzT8UPjF8YfBN149%2BLfwNm%2BH0d7qLN4a0LU9TWfUjp2xPLlvo0XZazs28mAO5RSqsQwIpNG/Za%2BFGmfGnXfj9qVvqGreJNeECSyarqDSWtrFCqrFHDartgUrtyJWRpuSDIRxXo1FYutJTk6fuqWllfbtrr0%2Bf4CvroFFFFYiCiivA/wBqD/goD8PfgL40tvgL8NfBmrfFH4v6rbCbSPhf4NKNdpEcAXV/O58nTLTJXM85GQfkVyCK0pUqlafLBXf9avol5uyNKdKpWlywV3/W/ZebPepZYoImmmkVERSzuxwFA6knsK%2BYfH//AAVU%2BClx4vvfhL%2ByN4G8S/H7xtZSeTd6T8MLZJ9N02Y9FvtXlZLG0Gcggys6kcpWBafsFfH/APbAkXxT/wAFOvjN9u0SZhJbfAj4bX89h4Ztl6rHqN0pS61mQYUsHaO33A4iKmvqX4e/Dj4ffCXwhZfD/wCFvgfSPDmhadF5dho%2Bh6dHaWtuvokUSqq/gK6eXCUPifPLstI/fu/kkvM35cLQ%2BJ877LSP37v5JLzPmVfhD/wVT/ab/wBI%2BM/7Q/hn4BeGrj73hT4RWS6zr7RN1jm1nUI/IhkH962tT7PXRfDb/gkv%2Bw14F8SR/EHxj8KZviX4uXmTxl8XdXn8T6i75zvVr9pI4T6eSkYHYV9JUVMsbiLcsHyLtHT72tX85CeMr2tB8q7R0/Fav5sisrKy02zi0/TrSK3t4UCQwQRhEjUDAVVHAAHYVLRRXIcoUUUUAFFFFABRRRQAUUUUAFFFcF%2B0Z%2B0p8Kf2W/h5L8RvitrhghL%2BTpunWyeZd6ncn7lvbxZzJIx/ADliACa0o0auIqxpUouUnoktW2ZV69HDUZVaslGMVdt6JI3vif8AFHwB8GfA2ofEr4oeKbTRtE0uEy3t/ePhVHQKAOXdjgKigsxIABJxXyzo/gv4tf8ABTzWLbxr8X9M1Twb8B7a4W40DwXI7Qah4x2kMl1fFTmK1OAyRA/NwQT8slavww/Zt%2BLH7YXjnT/2kv26NEFho2nzi58A/Bxn322mD%2BC71EEAXF0R/AwwmSCBkxr9XqqqoVQAAMADtXsurRyZctBqVfrNaxp%2BUOjn3ntHaGvvniKlXzx81dOGH6QekqnnNbqHanvLedl7hW0PQtF8MaNa%2BHfDek21hp9jbpBZWVnAscUESjCoiKAFUAAADgVS8cfD7wF8TvDs3hD4leCNI8Q6TcDFxpeuabFd28v%2B9HKrK34iteivE5pc3NfXv1PoI%2B5bl0t20PlbWf8AgkN%2BzT4Z1OfxV%2ByV4t8cfAPXJpDK9x8JPE0llp88nUedpUwlsJUz1XyFyO44Ipv4k/4K0/stjd4r8JeDf2lvC0H%2Bs1DwwE8K%2BLI4%2BpdrSZ30%2B8YD%2BGOW3Zj0XkCvrWiupY2tLSraa/vav/wLSX4s6ljKstKtpr%2B9q/v0l%2BLPCf2df%2BCjn7Lf7R/i1/hVpPinUPCPxBt0zffDL4iaVJoniC34JOLS4wbhcDPmQNLHj%2BKvdq86/aO/ZK/Zw/a38Jp4L/aK%2BEGj%2BKLSB/MsJ72Apd6fLkES2tzGVmtZAQPnidG968Bm%2BHP/AAUE/YFH9p/BXxZqn7RnwstRm48B%2BMNQjTxpo0A5P9n6m%2B2PVVUZIt7vbMQqqszE0/ZYav8Awnyy7Senylp90kvUfs8PX/hvlfaT0%2BUv/kkvU%2Bw6K8y/Zc/a/wDgP%2B2F4MuPF/wU8WvcTaZc/ZPEfh7VLR7PVtBvBndaX1nKBLbSqQwwww20lSy816bXLOnOlNxmrNdGc04TpycZKzQUUUVBJ5z%2B0Z%2Byj8Dv2p/D1tonxd8ICe702Xz9B8Q6dcNaarotwMFZ7O7iIlgcEA/Kdp2gMGHFeKj42/tJfsAzppH7W9/efEf4So4js/jJp2n/APE18Px5wq65aQjEsQHH26BccZljUtur6wplxb293bva3UCSxSoUkjkUMrqRggg8EEdq66OLcIeyqrmh2fTzi94v8H1T3KUrKz2KvhvxL4d8Y6BZeK/CWu2eqaXqNslxp%2Bo6fcrNBcwuMrJG6Eq6kEEEEg1dr5I8Y/CT4if8E5NevfjV%2Byv4bvtf%2BEF3cveePvg5YL5kuhhjum1TQkP3ccvLYjCONxj2tgD6a%2BGPxN8A/GbwBpPxT%2BF3im01vw/rlkl1pWqWUm6OeJu47gg5BUgMrAqQCCKWIw6pxVSm%2BaD2fVPtJdH%2BDWqdtiUbarY82/ag/wCS3/s4/wDZZr7/ANQrxRXs1eM/tQf8lv8A2cf%2ByzX3/qFeKK9mrlJCiiigAooooAKKKKACiiigAooooA8Z/bw/5Ihof/ZZvhx/6muiV6F8Yfi34D%2BA/wALte%2BMfxP1xNO0Dw5pst9ql24yVjQZ2qOrOxwqqOWZlUckV57%2B3h/yRDQ/%2ByzfDj/1NdErg/2h7YftXfts%2BDv2S5P3/gz4c2Nv4%2B%2BJUA5ivrzzmj0XTpexXzYp7x42BDC2iz1rpwtGNar7%2BkUm5ei3t5vRLzfkVFXepe/Y4%2BC3jz4i%2BNLj9vT9qPQXtvHXiayMPgrwrd/Mvgbw%2B53RWaKeBeTLtkuZcBizCIbVQg/SlFFTiK8sRU5notklsktkvJfjq3q2KTcmFFFFYCCiivnH/goV%2B0B8UPCGmeE/2Vf2Y9Ritvi38Y9Rm0vwxqUkXmJ4b06FA%2Bpa7KnRltYWGxSfnnlhXDZIrWjSlXqKEev3JbtvyS1NKVKVaooL/hl1b8ktTnf2gP2oPjb%2B0V8ZNV/Yj/4J/avbWGraIyw/Fj4x3NqLmw8Dq4z9itYz8l5q7IciIny4AQ0vJ2j179lP9jv4IfsdeCrjwp8JdEuZb/Vrn7Z4p8W65dG81nxHfHJe7v7t/nuJWJY84VdxCKq8Vpfsv/s0fC39kb4K6P8AAz4R6ZLFpmloz3N7eS%2Bbd6peSHfcX11KeZriaQs7uepOBgAAegVtWrx5fZUdIfjJ93%2Bi2Xm7s2rV48vsqWkPxl5v9FsvN3YUUUVyHKFFFFABRRRQAUUUUAFFFFABRRRQAUUV4H%2B1N%2B2Xd/DfxTbfs7/s7%2BFU8bfFzWoc6f4fhf8A0bSIiB/puoSAgQxKCG2khnyOVDBq6cJhK%2BNreypK73fRJLdtvRJdW/zsny4zGYfA0HVrOy2XVtvZRS1bfRLX5Xa3/wBqz9r/AMD/ALMWk2OkjSbrxL428Qv5HhDwLo3z32qzngHABMcIP3pSMAA4DHiuL/Zz/ZA8ca18Q4v2sv21NVtfEXxIkTOhaHB8%2BleDoDyILRCSGmHG6bk5HyknMj7/AOyn%2BxnafBTVr740fF7xU3jb4r%2BIkz4h8Y3qcQKf%2BXSyQjEFuv3QFALADIUBUX3KvRrYuhgaUsPgndvSdTZy7xh1jDvtKfW0bRPNo4PEZhWjiccrJO8Ke6j2lPpKfZaxh9m8ryCiiivFPcCiiigAooooAKKKKAPnj9rD9gvTvi/4yg/aV/Z38bP8Mvjhott5ej%2BPtLtw0WqwrgjTtXthhdQsm2gbX/eRYDRspGDb/Y0/bQv/AI76rrnwE%2BPPgZPAfxq8DxRnxn4Ja5MkFzbsdsWraZK2DdafMR8rj5omPlyAMAW98r55/b6/ZR8W/GXQNH%2BPv7Od7b6N8bvhhJJqXw61uT5Y78Ef6Rot4cjzLK8QGJwSNjlJFIKHPbSqxrxVGs/8Mv5fJ/3e6%2BzuuqfZSqxrRVKq/SX8vk/7vl03XVP6Gorzb9kT9pjwj%2B19%2Bzx4b%2BP3g/T7jT01q1ZdT0W9GLnSNQhdobuxnBAIlgnjkibIGdmRwRXpNck4TpzcJKzWjOWcJU5uMlZrQKKKKkkK%2BR/Fdh/w7W%2BPq/E3w8v2f4EfE7X44PGWlrxb%2BCfENy4SLVIh0isrqQrHOvCxyskgIDMtfXFYPxQ%2BGngz4yfDnXPhR8RdFj1HQvEWlzafqtlKOJYJUKMAf4WwchhyCARyBXVha6ozcZq8JaSXl3Xmt0%2B%2BmzZUXZ67Hm/7UH/Jbv2cf%2ByzX3/qFeKK9mr5fn%2BGnj74N2v7Jfwp%2BJnxGHi3V/D3xUvbCTxEbQwvewxeDPFSwNIpZiZRCI1d8/O6s2BuwPqCsKkYwm4xd0nv38/mJ6MKKKKgQUUUUAFFFFABRRRQByHgX9oP4B/FDxlrPw6%2BGnxv8IeIvEPh12TxBoWheJbW7vNMZXMbLcQRSM8JDgqQ4GGBHWrFr8bfgzffFO5%2BBdl8XPDE3jezsBe3ng6LX7dtVgtSFIne0D%2BcsZDp85Xb8y88ivmv4a/FfTPix%2B2/q3xT8WfCT4i%2BEtJ%2BFmk614X8C6bcfBrxDD/bX2q8szqOrNdCw%2BzvBJLaQJawRSMzxrNcuDvjEPM%2BDvh/8QYv2pPD3w3l%2BFHiiHXtB/ad8SePda8Zy%2BGrpNKm8O3mhanb20iamY/s08hW9sNP%2ByrIZk%2BzMxjEcKvQB73%2B3h/yRDQ/%2ByzfDj/1NdErkP8AgndF/wAJt4h%2BOf7RV%2BPNu/GXxp1WwtLr%2B9pmjhNKtUH%2ByDbTuPeU1e/4KF6b8V5/B/gzUfDnjTw9a%2BFofjD8PRr2jXvhie41C8c%2BM9G8tre8W9jjtgrbSwe2mLAEApkEV/8AgljNHF%2By/qPh17ZIbzRfil4ysNSiQsdtwniC%2BZs7iTuIdWPPfgAYFdtHTA1murgvleT/ADSLXwP5H0fRRRXEQFFFFABXyX%2ByLZt8df8Agol%2B0P8AtTaywuLbwRfaf8KfBG8c2cNpbQ6jqxX/AK63t7EpbqRaKM8YH1pXyp/wS3ZbDUP2kvCl38t/p37UviqW7jbhtl0lneQOR6GGePB/2fauzD%2B7hq0lvaK%2BTlr%2BSR1UPdw9WS3sl8nLX8kj6rooorjOUKKKKACiiigAooooAKKKKACiiigAops00NtC9xcTLHHGpaSR2AVVAySSegr8tv8Agrb8WvjV%2B3h4UHhL9in4a%2BMfG/gLwPqkkfi3UPDNq81nruovsEMcMceZLuO32yFigZSZlYjaEdtY0K06FSsrKFNXlJ35Yru7Jtve0Ypzk9Irdrsyuhh8wznDZdKdp15ckEuXmlKzslzzpwim7KVSpUhSppuc5WSjP6w%2BPf7WvxG%2BJnxHu/2S/wBheG11PxhB%2B78X%2BObhPM0rwdESQxdsFZrrghYhnDA5BKsq%2Bkfss/slfDn9lfwtc2Phya51jxFrM32nxX4x1h/M1DWroklpJZCSQuSdsYOFyTyxZm8U/wCCJPwO%2BO3wI/YtGh/tB%2BEjoes6t4pu9TsdLuLRYbu3spIoFjW4UAMJN6SsA%2BXVGRTjG0fX1dH9r0sVgI08HCVOlJJvmVpzfRz7d4wTtG6veV2uXNeF62QcRYjD46vTxFajJwU6MuejGyV1SlpzK7cZVLXm4vltDlTKKKK4iQooooAKKKKACiiigAooooAKKKKAPk39mC1X4Af8FMvjr%2BzXp48rQPiBoWlfFbw9ZR/6u2vLiSXTdYx7yXFrazkf3rhj/FX1lXypOy6p/wAFvbT7Cd39ifsr3K6mV/hN74ktzbhvcixuSB9a%2Bq67MZrOEnu4Rb9bNfkkdWL1lCT3cYt/c1%2BSQUUUVxnKFFFFAHjP7UH/ACW/9nH/ALLNff8AqFeKK9mrxn9qD/kt/wCzj/2Wa%2B/9QrxRXs1ABRRRQAUUUUAFFFFABRRRQAUUUUAeM/t4f8kQ0P8A7LN8OP8A1NdErjP2Tph8G/2z/jt%2BzJqP7qHX9YtviX4TD9bm11GJLbUNvtHf2rEj/p6U/wAVdn%2B3h/yRDQ/%2ByzfDj/1NdErl/wBv3wJ408JHwp%2B298G9Bn1LxX8Ibme41XRbNf3uv%2BGrhVXU7BR/HKERLmEHOJbcAAl67cE1OUqEnbnVl/iTvH8dP%2B3i4a6dz6OorE%2BG3xG8F/F7wBo/xR%2BHPiCDVdC1/Tor7StQtmyk8Eihlb1BwcEHkEEEAgituuOUZRk4tWaI2CiiikAV8i31%2BP2P/wDgqnLq%2BtN9n8EftP6LaWkN9JxFZ%2BNdIgaOOBjwqG900KEzy8mn7RksK%2Buq82/az/Zh8Bftf/AzV/gh4%2BubqyS8MV1o2u6bJ5d7oepQOJbTULWQcxzwyqrqQecFTlWYHpw1WFObjP4ZKz/z%2BTSf3rqdGHqQhNxn8MlZ/wCfyaT%2B/uek0V80/sTftc%2BO9f8AFN9%2Bxf8AtiwWujfHLwbZCS6aJPKsvG2lqdkevaZnAeOTA86Ffmt5dyMqjbX0tWdajOhU5Zf8Bro13T/rW6WdWlOjPll/wGujXk/66oKKKKyMwooooAKKKKACiiigArP8V%2BK/DPgXw3e%2BMfGWvWml6Vpts1xf6hfTiOGCJRkszNwBWL8aPjX8Mv2fPh5f/FL4ueK7fSNG09My3E5y0jnO2KNB80kjYwEUEn8DXzV4U%2BEXxb/4KM%2BJLL4u/tRaDfeF/hHZXC3Xg34VTuUuNbIOY77VcH7p4KQdMH0y0vpYLAKtTeIry5KMXZy6t/ywX2pfhFayaWj8vHZi6FRYfDx560ldR6JfzTf2Y/jJ6RTd2q1xqXxY/wCCpeqSab4fn1bwX%2Bz1b3BS71IBrbVPHm1sNHFnDQWJIwW6uMjkkrF9Y%2BA/AXgz4X%2BENP8AAHw98NWmkaNpduILDTrGIJHCg9B3JOSSckkkkkkmtKwsLHS7GHTNMsora2t4lit7eCMIkSKMKqqOFAAAAHAAqWljce8TFUaUeSlH4Yr/ANKk/tSfWT9IpR0KwOXLCylWqy560vik/wD0mK%2BzBdIr1k5Sdwooorzj0gooooAKKKKACiiigAooooAKKKKACoNV1TTND0y51vWtQgtLOzgee7u7mUJHDEilmd2PCqACSTwAKnr4r%2BP3jfWP%2BCn3xW1P9h74D6xcx/B7w3qQt/2gPiJp0xSLVGQhm8KafMv%2Bskk4F5KhxDETFu3yFa3w9B1pau0Vq32X%2Bb2S6v523oUXWlq7RWrfZf59Eur%2Bduh/4JlQ6l8dvE/xU/4KNa7YzQW/xk1%2B3tfh7BdRFHj8IaUkltp021hujN1I93eFe63EZ6Yr6zqroWhaL4X0Sz8NeHNKt7DTtOtI7WwsbSERxW8MahEjRV4VVUAADgAAVapYir7es5pWWyXZLRL7l99xV6vtqrklZdF2S0S%2B5fmFFFFYmIUUV5F%2B2n%2B0nc/s1/B1tU8H6Ous%2BOfEt9HoXw58NKcvqutXGVgQjtFHzNKxICxROSRxWlGlOvVVOC1f9fd1b6JNjSbdkVv2oP8Akt/7OP8A2Wa%2B/wDUK8UV7NXy9P8ACjxJ8D7X9kv4X%2BM/iDqXivW9L%2BKl6Nb8RateSTzX97J4M8VSzyBpCWWPzXcInRIwiDAUV9Q0qkYxm1F3Se/fz%2BYPRhRRRUCCiiigAooooAKKKKACivF/2Ofi78cPiVdfFLwd8fr3wpd6z8P/AImN4etr7wfotzYWtxato2lakhaK5urlzIrag8ZcOFcRqwRMkVyX7E/7U/xd%2BNHxC8R%2BCPj34m0TR9dtbnWJdJ%2BH5%2BE%2Bt%2BH9QTTbXVpLSG/jvtRu5IdXgaH7Kzy2kKxq91Hll3qpAOv/AG8P%2BSIaH/2Wb4cf%2BprolezV88f8FC/i58KPDXg/wZ8KPEfxO8Paf4p8QfGH4ey6D4avdagi1DUkj8Z6M0jW9uziSYKqsWKKQApJxg19D0AfIV/Jef8ABLn4p3mvC2lf9nLxvrLXGoCGMsvw21m4k%2BebaPuaVcyNlsfLbzOThUfn64sr2z1Kzh1HTruK4t7iJZIJ4JA6SIwyrKw4IIIII4INR61ouj%2BJNHuvD3iHSra/sL62e3vbK8gWWG4idSrxujAhlZSQQRgg4r5Obwv8Y/8AgmPdyX/wy0DWfH/7PjStJd%2BE7MPd638PlJJaSxUkvfaauSWt8mWAfMm9Qy16Pu5gtXar%2BE/n0n66S7qXxX8fr%2Bf/AAT66ornfhT8W/hp8cvAWn/FD4Q%2BNtO8Q%2BH9Vh8yx1TTLgSRyDuD3VgeGRgGUghgCCK6KuCUZQk4yVmiNgoooqQPJP2uf2Nvhd%2B2B4R0/TfF13qOg%2BJvDd4dQ8DePvDdx9n1jwzf4wLi1mA4BAAkibMcq/K6nAI8c8D/ALdPxY/ZI8S2PwJ/4KkWFjpAubhbPwr8fNGtTF4W8SknEaX3UaLfMPvRSnyHYOYpMYWvr6s7xb4R8KePvDN94L8deGdP1nR9Ttmt9S0rVbNLi2uomGGjkjkBV1PcEEGuqliEoeyqrmj07r/C/wA09H5PU6addKHs6q5o/ivR/mno/J6l21urW%2BtY72yuY5oZow8M0ThldSMhgRwQRyCKkr5Ck/YK/aF/ZCuZPEH/AATI%2BNtvpvh8SGWf4F/E2a4vvDLZOWXTrpS13o5OWIRDLBuYfugBWn4S/wCCq/w18G%2BIbT4a/t3/AAt8Qfs9%2BK7qUQW7%2BOdk3h3UZf8Apy12DNnKOnErQyc8oKp4NzXNQfOuy%2BJesd/muZFPCuavQfOu32l6x3%2Bauj6qoqvpOr6Tr%2BmW%2Bt6Fqdve2V1Estrd2k6yRTIRkMjqSGUjkEHBqxXHscmwUUUUAFebftOftT/C79lTwOnivx/dT3N9fzfZvDvhvTI/N1DWbs4CwW8Q5YklQW%2B6u4ZOSAef/au/bI8P/s8tp/w78GeG5/GXxL8SZj8KeBdKbM9wxyPPnI/1FuuCWkbGQrY4VmXC/Zj/AGOPEGg%2BOH/ah/au8SQeL/ixqMO2KdVzp/hmA5xZ6fGeEABIaX7zZbH3nZ/Xw2Bo0aKxWNuoP4YrSVT0/lhfebXlFSlt4%2BKx9etXeEwNnUXxSesad%2B/807bQT85uMfiwPgv%2Byv8AFH9oL4iWH7Vf7eFrA%2BpWb%2Bd4F%2BF0Unm6d4XQ4KyzjpcXhwCWIIUj1CLF9S0UVyY3HVsdUTnZRWkYrSMV2S/N6tvVts68DgKGApuMLuUneUnrKT7yf5JWSWkUkgooorjO0KKKKACiiigAooooAKKKKACiiub%2BK3xj%2BEvwJ8HXHxC%2BNPxL0LwnoVqP3%2BreIdVis7dTjO3fKygsccKOT2BpxjKTtFXY1GUnZK7Okrnfit8XPhh8C/AWo/FL4yePtJ8M%2BHdKhMuoazrV8lvbwr2BZyAWJ4CjJYkAAkgV8zzf8FEvjV%2B0%2BTof/BND9mS/8W2Mx2L8XviVDcaD4RgH/PWASIL3VQCCMW8SoeD5uOa2Phh/wTT0nXvHunfHv9u/4sXvxx8f6bN9o0aPXLFLXw14bl7HTNHQmGN14H2iYyznaG3qa7PqsaOuIly/3VrL7to/9vP/ALdOr6tGlrXfL5LWX3bL/t5/I42%2B8aftPf8ABVBT4f8AhEniT4Ofs9XXGpePLy3ex8VePLY9YtLgcB9LsZF63koE8isvlogLNX1d8HPg18Lv2fPhno/wc%2BC/giw8OeGdBtBbaVpGmxbIoUBJJ7l3ZiWZ2JZ2ZmYliSemorKtiHUioRXLBbL9W%2Br836JJGdWu6kVCK5Yrp%2BrfV%2Bf3JIKKKK5zAKKK8y/aY/a0%2BEn7LHh%2BzvPHd5d6hrmtTG28K%2BDNAtjd6xr912gtLZfmc5xuc4RMgsyirp0qlaahBXb6DSbdkdD8cPjh8MP2cvhhqvxg%2BMHimHSNC0iHfc3MuWeRicJDEg%2BaWV2IVI1BZmIAHNeK/ss/CD4nfGn4sn9vL9qfwxNo%2BuTWEll8LPAF6QzeDdHlxvlmHQaldAKZmHMaBYQeGFN%2BDv7Mnxa%2BOvxM0v8Aas/butrRdW0iY3Pw8%2BFFjdC40vwcSPluZ3Hy32p7Tgz48uIkiIdGH0xXbOdPCU3Spu83pKS2S/li%2Bv8Ael12Wl3Km1FWW54z%2B1B/yW/9nH/ss19/6hXiivZq8Z/ag/5Lf%2Bzj/wBlmvv/AFCvFFezV55AUUUUAFFFFABRRRQAUUUUAeL/AAJ/Y81j4E%2BNPF/jW0/ay%2BJXiOTxx4rh8Qa9Y%2BIbTw6IHu0tbezIT7JpEDpG9vaW0TAPnEIZSrs7NqfD/wDZag8J/Ghfjz42%2BN/jXx1r1lod9o3h3/hKjpkcGiWN5cW1xdQ28en2VrvMj2VmDJcGaQLbqA43Pv8AVKKAPGf28P8AkiGh/wDZZvhx/wCprolezV4z%2B3h/yRDQ/wDss3w4/wDU10StTwz%2B2B8Gta%2BNOo/s8%2BIr2/8AC3jC0u5I9N0jxXZGyOuQqcC50%2BRj5d3E3OAjFxg7kXFaQpVKqbgr21dui7/187EynGNru1z1Kiiisyj5x%2BKH7DniHwd491D9oH9hPx/a/DjxtqM32jxD4eurVpvDHiyTub%2BzQgwzN0%2B12%2B2UZYsJM1L8L/8AgoJ4ct/Gdp8EP2v/AAHdfB34g3T%2BVYWXiC6WTRteccbtM1MAQ3Gcr%2B5cxzAsFMZIzX0TWB8TPhX8NvjP4Nu/h58WvAmleI9Dv023elazYpcQSeh2uCAw6hhgg8gg13RxcKsVDErmttJfEvntJeUvlJF8yekjfor5dX9kD9pr9l3/AEz9hH49C88OQ8r8I/ixcz6hpkSD/lnYaiC15YAAYVHM8eTyoAq9oX/BSnwP4H1a38FftrfCzxB8DtdnlEMN54sVbjw9eSHtbazb5tmGOcTGFxnlRQ8DKor4eXtF2Wkl6xev/gPMg5L/AA6n0pRVXRNc0TxNpNvr/hvWLXULC7iElre2NwssMyHoyOpKsD6g4q1XC007MgKz/FPhTwt458P3fhLxt4a0/WNKv4TFfaZqtmlxb3EZ6pJHICrr7EEVoUU02ndAm07o%2BbvBH/BLr9nv4J/FPTfih%2By54p8a/CiG21dL7WPBngfxPJF4b1sB8vDcaXOJbaNWGVzbrC4zkMDXWfty%2BLdd8PfCDS/DWg%2BKb3QW8YeNtF8OXevafKYptOtru7RJpUkH%2BqYxhkD8bTICCDivZazfF3g7wh8QPDd34N8e%2BFdN1vSL%2BPy77StXsY7m2uUyDtkikBVxkA4IPSuj6zUnWjOq3K3ff7%2Bvzvt2Oj6xOdWM6r5rff8A8H53Pmn4IeM/iZ4Y/ZC%2BLPiT4DN4g8ZJouua2nwiS/1KbV7m%2Bt4oUEEcU95Kz3Ma3IlRPMlOQhXdgADzDVv%2BCl/xmTR9B/Zk%2BAWtaL8Wvjp4pvLiyjW78JT%2BFrfwktvHIbqfW4ZZ7nypYjGxESBSwZDsIZPN6H47eM9T/aZ8X3/7IX/BPWW60Cawms4fG/xV8OancWWn%2BFYrYFY7W0%2BzuqTXGwsnlJ%2B7x8rA7S0XQ%2BGP%2BCVXhv4G%2BEtDt/2V/irJ4c8VWcetL4k8aeKtIbWr7X5dVjjW6vZmE8G28VokeGQ74o90imFxI1e6qWEwcfaYyK55e9GD3Wis6ltovdRVpS3aUXrwQzDD5tOdPDu0VL3p20dk04xkt3e3NKKsndK7%2BHkP2Pfih%2Bzd%2Bz54W0X4ufEKXxX4o%2BJnxD0az1f4j%2BNbvR2u5NAiurhraNbyRPlsbMXMMsShcjFszMAkYK/clfHXi39gz4j2GteJvgd8PNF01vhz8Qbbwvaa74pvNeZdQ03S9J2Lc6b9mEOJvtKpMRKHAD39wWUALn6U%2BO2i/HTXfhvd6d%2Bzj478PeHPFZniex1PxToMupWSoHBkR4Ip4XO5cqGDjaTnBxivNzGtHGYhVXO7l1b0S6KyXupbKKWiW3fqhgcvwVKFHCJRjr1vvrdvV3u3du7e7d2djRXyr9t/4LbeHPmm0D9l7xbGn3vs%2Bo%2BIdDlkHsrR3qg/VsVJa/tHf8FWtJkNt4k/4JmeC9TCRuxu/Dfx/hxIwUkKI7rTYiMkADLY55wBXN9Tm/hnB/8Aby/Wxv8AVJPacX/28v1sfU1FfKv/AA2j/wAFC7E/8Tn/AII8eM2UdX0r4veFrgfgHvI2/Sl/4b3/AGwIRi7/AOCQfxiVu4h8WeF5B%2BY1Oj6jiOnL/wCBQ/8Akg%2Bp1/L/AMCj/wDJH1TRXyt/w3j%2B2ZcfLp3/AASA%2BLjN2Fz408LQj8zqRpP%2BGxf%2BCj19/wAgr/gj74ghB%2B62s/Gvw1APx8maYj8qPqNfry/%2BBw/%2BSD6nX62/8Cj/APJH1VRXyqfjv/wV58T/ALnw/wD8E9fhZ4ZJ4WfxT8eJboD3KWWkt%2BQY0f2T/wAFs/FH7i98afsx%2BDYn%2B/Lp2ieINdmjH%2ByZZrNCfqtH1OS%2BKcF/28n%2BSYfVGvinFf8Abyf5Jn1VRXyn/wAMY/8ABQvxn%2B5%2BK/8AwVp8Q2trJ/r7P4a/CjRdFIHok92t7KuPXd74oP8AwR9/Zu8W8/tDfFz40/Fsf8%2B/xD%2BL2qS2uf8Ar0s5La3wf7vl7fan7DCx%2BKrf/DGT/PlQexw0fiq/dFv8%2BVHqHxz/AG%2Bf2J/2aI5v%2BF7/ALVPgTwzcQff07UfElv9tJ7hbZWMzn2VDXlf/D1G3%2BKI%2By/sY/sX/GT4ttNxZa6nhQ%2BG9BlPqdQ1o2wK%2B8ccnsDkZ9d%2BCP7Dv7HH7NnlSfAb9l3wH4UuIh8t/o3he2hum92uAnmufdmJr1OjnwNP4YOX%2BJ2X3R1/8mHz4OHwwcvV2X3R1/E%2BTT4J/wCCvH7Q5z41%2BLfw3/Z80Gf5jp3gXTn8VeIQh4Mb318kNlC2P4o7aXHUH06H4V/8EqP2SPAvjG3%2BK3xM0XW/i545tuYvG/xj1uTxBewnOQYI5/8ARrTB6fZ4Y8dB0FfSNFKWNr25YWgu0Vb73u/nITxda3LC0V/dVvve7%2BbEVVVQqgAAYAHaloorkOUKK848XftZ/ADwpoPjHV4PiTpes3PgTT5rvxJo2hahDc3tsIgNyGMONrgsqncVCs67yuc1514w/an%2BIvjPWfDPwi8KWEnwy8Wax4uOj66fFOmQam2mZ027vrYRiC4EMv2kWkiJIHZQY5E27yldNPB4ip0svPTpf127J9O5Si2fRlUvEfiTw74P0K78UeLdestL0ywgaa%2B1HUbpIILeMdXeRyFRR3JIFch%2Bzf8AFrWPjH8Mh4g8V6Nb6br%2BmaxqGi%2BI9OtXLRQX9ldy2spjLc%2BW5iEseSSY5UOTnNefeJf%2BCf3gD4wfFe8%2BJ/7UfxB8QfE2zj1Vrrwv4H8QyxxeHtDj3ZjUWECrHdyKDt86580kY4B5ohRpRqyjXly27K7fktl827W77Akr6nMaj%2B2n8YP2p7ybwZ/wTo8Aw6lpfmNBqHxr8Y2ksPhyywdrmwi%2BWbV5lwwHl7YAwXdKQcV337N37FPw/wDgL4gvPiv4m8Ran49%2BJuswCPX/AIk%2BKysl/OnU29uqjy7G1BJ228IVQMbi5ANew2VlZ6bZxadp1pFb28EaxwQQRhEjRRgKqjgAAYAHSpaupi7QdOjHki9%2Brf8Ail%2BitHyYOWlloFFFMubm2sreS8vLhIoYkLyyyuFVFAySSeAAO9cZJ45%2B1B/yW/8AZx/7LNff%2BoV4or2avCvjx4q8MeN/ih%2BzR4r8GeIrHVtLvfjHfvZ6jpl2k8E6/wDCF%2BKRuSRCVYZBGQe1e602mnZgmmFFFFIAooooAKKKKACiiigAormfhZ8afg58c9Eu/E3wT%2BLPhnxjpthqUmnX2oeFtet9Qgt7yMK0lvJJA7qkqh0LRkhgHUkcik8HfG34M/ETxfrvw9%2BH/wAXPDGu6/4WnEPibQ9H1%2B3urzSJCWAS6hjdnt2JVgBIFOVPoaAOA/bw/wCSIaH/ANlm%2BHH/AKmuiV3Pxm%2BBHwg/aF8HyeA/jP8AD/TvEGmO2%2BOG9i%2Be3k7SwyKQ8Mg7SRsrDsa4b9vD/kiGh/8AZZvhx/6muiV7NVQnOnJSi7NdUJpSVmtD5sX4X/tqfsqfvfgZ40/4XF4Lh%2B74I8eamLfXrKP%2B5Z6qRsuQO0d2ucKB51dh8G/25vgR8W/E4%2BGep3%2BoeCvHKgef4D8eWJ0zVAT/AM8kkOy6U4yHgeRSOc17HXJfGL4DfBn9oLwwfB3xq%2BGmkeJdPBLRQ6pZq7QMf44pPvwv/toVYetdn1mjX/jx1/mjZP5r4X/5K/Mx9nOH8N6dnt8nuvxR1tFfOK/srftOfAX9/wDsiftNz32kxf6r4f8Axd83VrFV6CO31BCL22UDhQxnUf3ccU8ft6618Jj9h/bN/Zu8V/DlY%2BJPFWmQnXvDzDoHN5ZqZLcHrieGPA6ngml9SlU1oSU/JaS/8Bev3OQ/bKP8Rcv5fev1sfRdVdb0PRPEuk3GgeI9HtdQsLuIx3Vle26ywzIequjAqwPoRisf4Z/F74VfGfw%2Bviv4SfEfRPEumtj/AE3Q9Tiuo1J/hYxsdrf7JwR3FdFXJKM6crNNNfJ/oappq6Pm3Wv%2BCZPwh8L6vceL/wBkz4g%2BLfgfrU8hmkHw81MJpFzL2M%2Bk3CyWUij0WND/ALVVx4p/4Ki/Ag%2BT4o%2BG/gT466LD8o1HwpfnwzrpUdXe0u2ks5Wx/DHPFn0Hf6aorrWPrSVqyVRf3ld/%2BBK0vxZpzvrqfN%2Bk/wDBUz9mDS9Sh8OftAW/i34OavO%2ByOx%2BK/hefSoXPcpe4ezdfdZzn86978G%2BOvBHxF0OPxP8PvGWla7ps3%2Bp1DRtRiuoH%2BkkbMp/A1d1XSNK17TptH1zTLe9tLhClxa3cKyRyqeoZWBDD2NfNvxx/wCCff8AwTu8IaTqnxw17wJZ/C2XTrcz3vjDwDrdz4amt8fx50%2BSJZHJOAGRyzMAASRVRjgcRJRjGUZPZL31f00l%2BZM50YRcpPlS1b6JfOx9KajqOn6Pp8%2BratfQ2trawtLc3NxKEjijUEs7McBVABJJ4AFfIvij4rfFv/gpB4ivfhT%2BzRrl/wCFfg7ZXLWvi/4oQoY7rX9pxJZaXuHEZ5V58Y69vll8S8DfssftjftzeCdas/C37VfjzTPgrPdQzeErX4wQR6pfeJRG2d032QWdytk/8IkmdjhGAY8r9FeF9X/4KbfATw7ZeEoP2W/gx430PTbZbewtPh54vuvDskMSjChba/glhXj%2BET49xXtRweHyhvlqQniFsm7Kn5tSTUqi7XcYPfmlovA/fZ9pBuGG76xlV9NnGm%2B%2Bkprbli7y97%2BDfwY%2BGnwB%2BHth8LvhL4UttH0XTo9sNtbry7H70kjH5pJGPLOxJJ6muor5r/4eD%2BN/CP8Ao/xr/wCCfPx08OTJ/wAfFzonhq28RWaDuRLpdzM5A9fLHFTWH/BWn/gn/Jdppnif49r4VvHO1rPxv4d1HRHRv7p%2B3W8S8exI968apgsyrTdSUXNvVte9fzunI92nh1RpqnTjaKVklskuiSPo6ivPfBn7W/7KnxGCH4f/ALTHw/1wv91dJ8Y2VwT7YjlJz7V39vc295AtzaXCSxuMpJG4ZWHqCOtcU6dSm7Ti16pr80immtx9FFFQIKKKKACiiigAooooAKKqaxr2h%2BHbQ6h4g1q0sYF6z3lysSD8WIFeZeNv28f2JfhyHHjf9rj4b6dIn3refxpZed%2BEYlLn8BWlOjWqu1OLfom/yTGk3sesUV82N/wVl/Yv1gm3%2BF3ibxZ4/uj/AKu18AfDrWdVMn%2B7JDamI/8AfdIf24f2jPGvy/BH/gml8VL8f8/XjvUNL8MwfXE9zJPj/tju/wBmun%2Bzsavihy/4mo/%2BlNfkVyS7H0pRXzVv/wCCs/xJ%2B7b/AAR%2BFllP3d9S8Uajbj6AWVuW/wC%2BgfakP7A3xZ%2BIX7z9pH/goN8WfEytxLpXhC5tfCmnyL3Rk06MXDL25uCcdSaPqlKH8StFel5P8El%2BIcqW7PpQSxtI0SyKWUAsoPIz0z%2BVeLfCvxX8QPhd8e/F/wAH/jR8WLzxDY32jQeKfCmtazaWlqILYSG1vbIGCKKMRwP9kcFgXIvPmZjXUfs%2BfsqfAP8AZY0nUdH%2BBXw/TRU1i4SfV7iTULi7ub6VFKrJNPcySSysASMsx61oeJP2ePgl4z%2BKenfGvxn8NtN1jxPo1obbRdV1aI3J01CSWNskpZLd2z80kaq7AAMxAAERnh4SnHVxa0dle%2Blurtre%2Buwk4q580W3wS8TeJ/FPhL4OXHw71S/06z8R%2BIZJfHFnsbS9R8Jaut1PKpuUJAuWuPsT%2BXtO6SLfjaSw9I8B/sc%2BLtbn1Of9pPxrpuuSnw/pGkaPe%2BG4Lixukk055JItWaUyFor0ySA/uzsTyxjO9hX0F06UVrUzGvJWjp%2Be9736X7LQbmznfhd8L/C3wg8IReDPCRvpLdbia5uLvVNRlu7q7uJpGklnmmlZnkd3ZmJJwM4AAAA6KivPPjX%2B1j%2Bzh%2BzrGo%2BMvxi0TRLqXH2fSpLnzb%2B4z0EVpEGnlJ9EQ9RXLGNbEVLRTlJ9tX%2BBnKcYq8nY9DqO6uraxtpL29uI4YYkLyyyuFVFAyWJPAAHevndv2ov2q/jgPsv7K37KN3pGnS8R%2BN/jHI%2BkWgHZ4tOj3XtwpHI3iAH1HWnW37A9z8VrmPW/wBtn46698UZFcSL4VjH9keGoGByoGn2zZuNp43XMkuR1Aro%2BqRpa15qPkvel9ydl85fIx9s5fw4389l%2BOr%2BSLPin/goD4P8R69c/Dz9kTwBqnxj8TW0hium8MSrFomnSf8AT3q0n%2Bjx9/ljMsnGNmaz4P2OPix%2B0TcR69%2B3p8V49a07eJIfhV4Jeay8OwkHIF1ISLjUyCAf3pSLIP7rBr6C8MeFfDHgnQbbwr4M8OWGkaZZRiOz07TLNIIIE/upGgCqPYCr9P63Gjpho8v956y%2B/aP/AG6r/wB4PZOf8R38tl/wfn9x4Z8fvDnh7wh8Uv2Z/DHhPQrPTNNsfjBew2Wn6fbJDBbxjwT4owiIgCqo9AAK9zrxn9qD/kt/7OP/AGWa%2B/8AUK8UV7NXE227s32CiiikAUUUUAFFFFABRRRQB8q/sLfFLw1D8Wfjtp0Pwv8AiLoVp4g%2BMtvfeG31v4PeIdJtbqybw7olis0cl1YRRiMXFjcoTkBBGGbCOjNxH7Cnw/8AiDpfxh%2BFPhjVvhR4o0PUPhP8M/GOg/ErXtZ8NXVlZ6nqd/rOlzQta3Usaxamty9nd33nW7yrGHHmFJJitfcNFAHzx/wUL034rz%2BD/Bmo%2BHPGnh618LQ/GH4ejXtGvfDE9xqF458Z6N5bW94t7HHbBW2lg9tMWAIBTII2vHKftz/DLxjqXiz4fy%2BF/id4Xu7t54fCOoAaLq2nRk8Q212u6C4VR/z3VGPTf3qf9vD/AJIhof8A2Wb4cf8Aqa6JXs1aUqns3smn0a/4Zr5Mxr0fbRSUnFrZp2/zT9GmjxLwb%2B3z8CtT1%2BHwL8WDq3wx8TzHamgfEawOmmZun7i5Ym2uATwDHKxPoM4r2uGaG4hW4t5VeN1DI6NkMD0II6is3xj4I8GfEPQZvCvj7wlpmt6ZcDE%2BnavYx3MEn%2B8kgKn8q8Wl/YJ0PwBM%2Bpfso/Gnxd8K59xddJ0q9/tHRGc9S2nXm%2BNQf%2BmRi9iK2thKuzcH5%2B8vvXvL7mc18wobpVF5e7L7neL%2BTie%2B0EAjBGQeorwEfEP9vr4Qfu/iF8EvDPxR0uLrrHw91T%2BzNSCDqz2F8xjdyOcR3H0Har/hv/goX%2BzJfavF4W%2BIniXUfh1rkpwNF%2BJWjzaLLn0WS4Agkz22SNnt1FDwddq8FzL%2B67/gtfwGsxwqdqjcH2muX8X7r%2BUix8Sv%2BCf37K3xJ8QN45h%2BHJ8LeKDkp4t8B382iakrn%2BMzWbR%2Baf8AroHHtxXOj4G/t6fCEZ%2BCv7WWleO9Oj4h0D4w%2BHwZwnoNT04RyFveSCT3zX0DpWraVrunxatomp295azpugubWZZI5F9VZSQR9KsVUcbiYrlm%2BZLpJc356r5NHR7Gk/ejp5rT8tH9x87j9sb4/wDw2/c/tG/sK%2BNbKJeG134b3UPieyYDrIY4fLu4174MBI9%2Bte%2B6Brdl4l0Gy8R6ak62%2BoWkdzbrdWzwyhHUMoeNwGRsEZVgCDwQCKt15N%2B1l%2B1l4A/Zg8HwjVTe6p4q14taeD/CWhxiXUtVu2%2BVRFGVbChiN0jKVHAwxIRnCm8fWjSw9K030TbT%2BT2tu3eyW9kjOtXpYGjKtXqWgur/AOBu3sla7dkk2zn9U/bR0n4Pab8TPFH7SGoaJpujeCvFaaTotxoryvPqryWUN2lqsMnL3KrcRqQh2k7mOxVJHhHwkXxf/wAFA/iBP%2B0L%2B2p4G1nw38K/CzXV94M8G6iIl0dvsrsk15qkvmbnmjKSAxSIiLscfd3h979kX/gnn8YbDxsv7VH7Xni/TPFHjq8vLnU9O8M6lZK1poFzMuRIGgKQtc5SFXkERCiMBMlEYdV4x/Zh%2BLkvhzx9rmlfCzwl4fTxBo9jb3vgrwLqRlh12ZNQFxe3rtLbWqfaJLdpYURl%2BZmbfLhgR7yqZfl8pU8NNe1dk6i2jspKn1u9b1POy5Y%2B8/F%2Br4vNGqmKi1SWsab3l1Uqn4Wp9LXlzP3V774E%2BNHwl8eeEbjxd4N8Y2TaRp0/2W7nnVrVbRwFwjrMqGPhkIyACGUjIINdTFLFPEs0MiujqGR1OQwPQg9xXyL43sZIPHmlfGX9ojwRd6P4I8S%2BNLzUNY0DVNN%2B1nNrphtNMS9hgEilpcyy4O5VaG2QndtA9y/ZJ8NeKvA/7NfhbRfHOlvp9/DpzzyaUY%2BdNiklkliswo6eRE8cIXt5WK8LE4WnSpqcZbvyfqrrdp79NUe7SqylLla/r/gnpVQ3%2Bn2GqWj2Gp2MNzBIMSQzxB0YehB4NeBxf8FRv2KLSRbXxl8UNQ8J3OcPbeMvCGqaUUPoWubZE/JjXb%2BE/wBs79kPx2FHg79qL4fai79IbXxhZNIPYp5m4H2IrOWCxtNXlTkvk/zSf5lKvRk9JL70Q%2BM/2If2M/iIXfx1%2Byf8N9Wkf70994KsZJc%2BocxbgfcGuBuP%2BCRv/BO15nudK/ZsstGkc5L%2BGtd1HSjn2%2Bx3EWPwr6F0nW9F161F7oer2t7Cek1pcLIp/FSRVqnDG46krRqyX/b0vyv%2Bhupytoz5t/4dc/AzTePA3xl%2BN3hhR91NC%2BNuuoq/QS3L/rR/w7lv7bjR/wDgoF%2B0lZgdB/wsaC5x/wCBVnLn8a%2BkqKr%2B0cd1nf1UX%2BcWPnn3Pm3/AIYM%2BM1pxpH/AAU1%2BOyAdPts%2BhXB/NtMGaP%2BGJv2m04g/wCConxaA/6aaD4eY/n/AGdX0lRR/aGK7r/wGH/yAc8v6t/kfNv/AAxH%2B0pLxd/8FQvi6w7%2BTovh6M/mNOo/4YC%2BKV6Ma3/wUv8A2gZPUWOq6JbZ/wC%2BdLOK%2BkqKP7QxfRr/AMBh/wDIBzy/q3%2BR82n/AIJvQXX/ACG/27P2kr0H7w/4Ws9rn/wEhix%2BGKP%2BHVP7Luqf8j54l%2BKvirP3v%2BEi%2BM/iGUN9Ql4gNfSVFH9o47pUa9LL8ooOefc%2Bd9H/AOCTf/BOXR7sX7fsleF9SnH/AC28QJNqbH6m7kkz%2BNem%2BCf2XP2ZvhoyN8Of2dvAugGP/VtovhKztSv0MUS13dZfiPxz4J8HxGfxb4w0rS0AyX1HUI4Bj6uwqJ4vG19JVJS8ryf4X/QlzlbVmoAFAVQAAOAKK8i8Xft/fsQeBgw8S/tafD2GRPv28Hiu1nlH/bOJ2f8ASuYP/BTn9lvWP3fwyHjnxzN/DD4L%2BGusX276SC2EZ/B6I4HGzV1Tlb0aX3uy/ExdegnZyX3/APDn0JRXz3/w2R%2B0B4t4%2BEf/AATt%2BJl4P%2BfjxnqOl%2BH4vria5klx/wBs8%2B1IdX/4KieOvnsPBvwZ%2BHttLwRqeraj4hvIR67YY7SEkf75HtVfUasfjlGPrKP5LmYvbwfwpv0T/Wx9C1S8QeJPDvhPS5Nc8Va9ZaZZQjM15qF0kMSD3dyAPxNeD/8ADIv7TXjjj41f8FCvG0sB5Nh8PNA0/wAOxg9x5oSe4x/21B9CKuaB/wAE0P2NtP1SPxF4x%2BFkvjjVkOW1b4ja1d6/M7f3iL6WSMH/AHUAo9jg4fHVv/hi/wA5cq/AOetLaNvV/wCVxfEv/BSr9j/S9Vk8M%2BCPiRP4%2B1pOF0T4a6Nc6/O7f3d1kjxqf951FZ5/aF/bi%2BKx8r4H/sYQ%2BFLKX/U%2BIPjD4mjtCo9Tp1h585Ps7x/h2958N%2BFvDPg7SY9B8IeHLDSrGEYistNs0giT6IgAH4Cr9P2%2BEp/w6V/OTv8AhHlX4sOSrL4pW9F%2Bruz52P7In7RvxX/fftN/tseJJbST5pPC/wALbFPDdiM/eja4Vpb2ZMcf65M%2BnXPoXwV/ZD/Zo/Z4ka8%2BD/wa0XSL%2BXP2jWjbm41CcnqZLuYvPJnn7znqfWvR688v/jfr%2BifFLTvBHiT4T6hp%2Bj61rEmlaP4hn1G2b7Vdrby3H/HujF1iZIJdrk7iUOUUYNJ4nF14uCdo9laK%2B5Wv87kSWHoNSlu3a7u/x1t%2BB6HWV4w8b%2BF/AXhq/wDF3ivVRbWGmxh72VInlZASAAEjDOzEsAFUEkkAA5rw34h/Fr4leFPiR4s8aj4gTw6X4O8S6RZ3fhKW2g%2ByzaReRW6SXYcR%2Bd5oln8wP5m1VhZNnUny7wx8NzqUdr8Dvhvt0jx2NJvo/GEZtjEr6lpl4t1pur3YUASGe4Cnz8HzkllXJ24F08EmuactNP8AN3%2BTWuu5xVszcZOFOF3qter1St31T0bTsvu%2BvfAPxF8I/E3RG1/wdqTzwxztBcxT2slvPbTKAWhmhlVZIZAGUlHUMMjI5rzf4nftWeItG8cX/wAJfgf%2Bzx4u8eeJtOZEvpEtf7M0eyd0WRRNqN0FjJ2OrYhWU4OMZ4rU%2BBHhzx3H4/8AHXxI8XeB7rwxF4nvNPkj0S61K3uS1xb2gt5bsNA7KokVIIwCQxW3VmVSxUen1g/Y0aruuZevXztvbbRo6l9YxGHVpcju7u2trtaKW19HqnbtseA/GG48eXXjz9mG5%2BJ%2BmaXZ6%2B/xevTqlrol3JPaxS/8IV4p%2BWOSREZhjHJUc5r36vGf2oP%2BS3/s4/8AZZr7/wBQrxRXs1YN3dzriuWKV7hRRRSGFFFFABRRRQAUUUUAFFFFAHjP7eH/ACRDQ/8Ass3w4/8AU10SpvGVr%2B2x4I8V6h4j%2BH%2Bp%2BDfHfh%2B4unmt/DGsQyaPqFnETxBDdx%2BbFLgfxSxqT3b1h/bw/wCSIaH/ANlm%2BHH/AKmuiV7JHLFKCYpFbaxU7TnBHUfWrhPkeyfqc2KwyxMUueUGtU4uz/JpryaaPEYf26fA/hGVdO/aN%2BGvi74Y3W4I114k0gz6Y7%2BiahaebAR7uyfTpXrXg3x54H%2BImjp4h8AeMdL1ywk%2B5e6RqEdzEf8AgcbEVqTQxXETQTxK6OpV0dchgeoIPUV5L4x/Ya/Zn8V6w/irS/h//wAItrrZK6/4HvptGvFb%2B8XtGQOf98NV3oS3Tj%2BK/Gz/ABZxcmc4f4ZQqr%2B8vZy%2B%2BPNB/OMT1yqPiPwv4Z8Y6RLoHi7w7Y6rYTjE1lqVok8Mg/2kcFT%2BIrxz/hSH7Xfw4%2Bb4RftXReIrOP8A1Oi/FHw8l2SPQ31mYJvxZX/Hv6T8JNU%2BL%2Bq%2BGJH%2BNvhDRNH1mG8eJY/D2ryXlrcwhVKzK0kUbx5YsNjAkbQc84ClDkXNGSf3p/dubUMZOvP2VahODt1SlF/9vRbXyaV%2Bx5lqn/BOv9m221CXXfhLZ%2BIPhnqczbnvvhr4juNJUn3t0Y2zD2aIjt0qEfB/9vL4cfN8Nf2rPD3jS1T5YtM%2BJvhARyhfQ3umtESf9poW9810XjTXvEMvx90PSPhj481i9uvtkY8WaGixS6XYacsUhaSVjHuhnZ/LCKsm9iclCisR43%2B0p%2B3H8Z9W/aTP7G37HEHhnUfEVzYiDUvEWoyFofD9yQ7SNI27YzxxrkRbXYtkEHaUPo4aOOxc1BNSVrtz1UV3baul89dkm7J%2BRi8VlOBhKbjKD51Bezes5PVKKi1FvvePuv4n2ofGH/go/wDtLfBvxQfgFqn7I1jr3xN1DS5LjQ7DwR4t/ta3bH/Le4gEEdzBEBlgGA3hSAw5Yc3%2Byd8Uv2XfhD4wuPjb%2B2T8T9bg%2BNWvJs1TWPiP4Qv9Jh0qM5xZWBuIVhhhUEruVgzjJwoO2vT/ANjDwv8ABX9ny51OGS01zUNd8QpqN7rvxd8UtAT4kksZfLvHD%2Ba0kEMb5ZEdVVkBcM5DNXvngf4kfD34xaReSeGLp723t5RBe22oaXNbspZFdd0VxGjFWRlZWwVYHIJFduJxuEw1KWGwtNqLspTT5XPySfNywv8AZvd2vPpFc2CoV8dWhiK%2BIjKab5KckpKNuunJzTS%2B3ZpJ%2B5p7zf4F%2BL/wm%2BKFuLv4afE/w94hiK7hJoetQXYx65idq6KvJ/HX7Cn7HPxIuDfeK/2bfCL3Zbcb%2Bx0eOzuSfXzrcJJn33Vzv/Dv7wNoHy/Cf4%2BfF7wVEv8AqrTRPiJdXNsh/wCuN/8AaEx%2BFeNyYOW02vWN/wAYv9D6L2mYw%2BKnGX%2BGTX4Sj%2Bp71RXgw%2BAP7bHhnnwX%2B3gupxR/6q08a/Dexutw9Gms3tn/ABwTR9v/AOCmPhz57nw58FPFcSdVs9S1XR5pB7CSO5QH/gWKPq0X8NSL%2BbX5r9Q%2Buzj8dGa9Epf%2Bky/Q93lijmjaGaNXRhhlYZBHoRXEeLP2Yv2a/HpY%2BOf2e/A%2Bsl/vnVfCdncE/jJGa8//AOGiv2zNF58Vf8E%2B765jX/WTeFviTpd5%2BIS4%2BzOfpij/AIbm1DTvk8WfsW/HPTWX/WND4Ij1BB9DZXExI/Crhh8XB3pv/wABkv0khPMME1791/ihJfnBhq3/AATA/YB1a5N7/wAMteGbGY9JdEil09h9DavHj8Kq/wDDsr9mXTufBmp/Ebw2R0Og/FrXodv0DXbAfgKt/wDDx/8AZnsPk8Xr458Ov3j174Ya3Bt%2BpFoyj8TUlr/wUv8A2EbqYW8v7S3h%2B0kP/LPU/OtGH1E0akV0c%2Bdpbzf3v/5Iy%2Bt5Nf44L5pfnylAf8E%2BrS140X9s79oKyA%2B6B8UJbnH/AIFRS/rR/wAMP/E6x/5Af/BRD44Regvr/R7rH/fenCuv039uf9i3VwPsP7Wfw4JPRZPGllGx/B5Qa27L9p/9mrUgDp37Q3gafPTyfFtm2fylqHiMzXxJ/OC/WmbRqZdL4Zx%2BU1/8mebf8Mj/ALT9vxp3/BSf4iqB0%2B0%2BFvD8387EUn/DLP7Yy8Rf8FMvGAH%2B38O/Djf%2B2deuQfG34MXQza/F3wxIP%2Bmev2x/k9WF%2BK3wucZX4k6AfprEH/xVR9bxi3iv/AI//IGijhXtL/yb/wC2PG/%2BGVv2wZOLj/gpj4zI/wCmfw/8Op/Kzpf%2BGP8A9pC641T/AIKR/E5wev2TQdBg/lYHFexP8WvhXEMyfEzw%2Bo9W1mAf%2Bz1Uufjv8D7ME3nxl8KRAdTJ4itl/m9CxWNe0V/4BH/5AGsKt5f%2BTf8A2x5P/wAMK%2BOLz5tb/wCCg3x5nPdbXX9LtVP/AH604EfnR/w7x8NXnHiD9rD4%2B6mp%2B9HP8W72FG%2Bq23lCvRL79q79lvSwTqX7SfgC3A6%2Bf4xsUx%2BctYWqft9fsRaQCbv9rP4etjqLbxZazH/yG7Var5pL4U/lBfpTMpVcth8VSPzmv/kzmP8Ah19%2Bx/ffP4r8N%2BLfEEh%2B8/iD4l67dbvqrXmw/wDfNanhz/gmv%2BwN4XlE2nfsj%2BBZ3Bzv1TQY75ifUm4D5NV3/wCCmn7DBcx2H7QFhqLA426Ppd7en8BBC%2Bab/wAPE/gdqXHgjwL8UfExP3f7C%2BFGsvu%2BhktkFW5Z01ZuaXq1%2BsTJYvJ09JwfpZ/kpHqfhH4K/BvwAVPgP4S%2BGdEKfcOkaDb2236eWgxXTV4Mf21PHWsfuvBH7Cfxnv5D9xtU0aw0uI/Vrq8Vh%2BK0f8Lw/bu13914e/YX0vSN/wB248VfFS0XZ7tHZQXGfoGrmlhsTJ3m185L/wCSbNVmGEStBSfpCb/9tSPeaK8G/s3/AIKYeJf3V34o%2BC3hOJ%2Br2OmaprE8Y9jJJbIT9VpP%2BGXv2pPFH7r4k/8ABQPxV5Dfft/BPhHS9Hx/uyPHcSj/AL7NT9Xpr4qsV6Xf5L9R/XKsvgoTfryx/OV/wPeq4T4iftQ/s3fCQSD4mfHjwjocked1tqPiC3jmJ9BGX3sfYAmuA/4dz/ALXPn%2BLHiT4gePn/6nP4h6lcx/9%2BY5Y4ce2zHtXd/Dv9lP9mb4SmOT4a/AHwfos0eNt1YeHrdJ8juZdm9j7kmjlwcd5Sl6JL82/wAg58yntCMfWTk/uikvxODP/BRP4MeI/k%2BCvgH4i/Edugk8GeBLx7fPbNzcrDBj/a8zHvR/wtv9vr4hfu/h/wDsp%2BGPBVu3MepfEfxoLiTb6m001JMH2My%2BhxXvdFHtqEfgpr/t5t/h7qD6ti6n8Ss/SKUfxfMzhvgj4W%2BPvh6z1C6%2BPvxZ0XxLe3ssb2dtoHhk6dbaaoDb40LTSyTBiQdzkEbenNZXxO%2BFfxf8Y/G7w3468K%2BMvDmm6L4f0u4SOPUtGnvLoXc8iLLLGFnijU/Z0Mau2/b5sh2HIrsPHPxU%2BGPwxs/7Q%2BJHxF0PQINu4S6zq0NqpHsZGGa8vn/b9%2BBWsStZ/CLTfFvxFuUYq0XgTwndXkQPvcsqW4HuZMUoOvKbqRjv5advJfiYYnE5XhYKhXrJNNOznebs77Lmm/8AwE7vWPgL8N/FmsaX4n8d6MNb1fSJfMtNUvMRyHEglRXWAIkqI6qyq6sFKg9ea7OvDz8Tf25PiH8ngH9nPw34ItW5TUfiH4m%2B1TlT3%2Bx6eGw3s06%2B%2BKQ/ss/Gfx/%2B8%2BPX7X/iu%2BhbltF8C20Xh6zweqM8W%2B5kXtzMM/pSlBtL2k1p8/wWn4mcMe5N/VMNOV%2BrSpp%2BrnaT/wDAGeh/FL4%2B/BP4J2f234s/FPQ9ABXdHDqOook0v/XOLO%2BQ%2ByqTXnX/AA1942%2BI37j9mj9mXxZ4oif/AFXiHxJF/YGklT0kWS7Xz5l9o4Tn19Ow%2BF37J37OXwZvP7W%2BHnwh0e01ItufWbmA3V%2B7dy11OXmJ%2Br16HU81COyb9dPwX%2BZfsc4xH8SrGku0FzS/8DnovlA8E%2BNEnjeX4g/sxyfEi10uDXW%2BL96dTi0SaSS0SX/hCvFORE0qq7LjHLAGve68Z/ag/wCS3/s4/wDZZr7/ANQrxRXs1ZN3dz1IR5IKN27dXu/XbX5BRRRSKCiiigAooooAKKKKAPl34DftjfG34gfGLwtJ420zwsvgP4ma14u0zwVZ6XptzFqulyaLdyxQyXlw9y8V0t3b21zMVjhgNu3lx5nyZBd%2BFf7U/wAXdd/bS8V/A34seJtE8M6Lb%2BJ7nTfAGgX/AMJ9btLnxPbRaXb3ZuLXXp7safdyK7XZa3ggaQR2rkgBGcdF4O/YM8DeAviTN8RvC/xd8bwC2utZuvCmhPPp0th4Wn1a9W81KWxR7IuzTyhx/pLziFJpY4BCr4rfvv2WoPEXxy0X41%2BPfjf418RQ%2BFtaudX8I%2BDtSOmR6Tot9NZ3Fk08X2ayiupittd3UaC5uJlUTsQNyoygHGf8FC/i58KPDXg/wZ8KPEfxO8Paf4p8QfGH4ey6D4avdagi1DUkj8Z6M0jW9uziSYKqsWKKQApJxg12vi/9kP4U%2BIfEt7468L3/AIh8H%2BINQnaa%2B1rwfr81lJcSHktJHloZST13xnPesv8Abw/5Ihof/ZZvhx/6muiV03iL4rfE/wAH67dxaz8A9V1HRo52FpqvhrUIbuV48/Kz2zGORTjqF3/jWVavToJOd7eSb%2B%2BydvuPNzKll1WlFYynzRT0fLJ8rtvePvR06prtc5z/AIQv9tD4fc%2BEvi94Y8d2a9LPxlo7afdhR/CLqyyjN7tD9fWj/hqHx94O/d/Gr9lrxnoyr9/UvDaR67ZKvdi1qfOUf70I966LRP2o/gdq96ukX/jaPRNQPDad4ltpNOmU%2BmLhUBP0JrvbS8tNQtkvLC6jnhkGY5YXDKw9QRwaVLEUK6vTmpejT/4K%2BaRwUMLCor5fjZadHKNWK9VP31/4GjgPA37WH7N/xGuv7O8K/GPRHvd206bfXX2O7B9DBcBJM/8AAa9CMkYj80uAoGS2eMeua5X4seB/gn4j8NXetfGzwn4bvNKsLV5ry98R2UDxWsSglnLyjEYAyd2RiviDwr8Bof26PGl3Yfsvf8JT8MPgNAZbTWfEGn69fQyeMjyrw2dpLIYorYcgyNHg9NudyD1cFgJ4vmqSlyU4/FN7LyS%2B1J9IrV%2BSTazxWZZxl9SFGUKdac/hUHKEn3bjJTior7UuZJbK7aR1XirWrn9p/wCM2v8Awr/4J3pP4Z0%2BXUZP%2BFo/GTS9RuorBZnYGWGyhjlWG7vGA5n25UH5WAYPXtPwb/YH%2BHXwOg0fw54N8Xam3h3SNZTWhpN1aWpmvNTSNkW5uLpIlmm5dn2sThtoBVVCVF8Ov2af2hv2dfBtj4B%2BAXxs8M3OgaXF5enaD4o8ExxLGucnM9jJEzMSSS7IzMSWYkk1t/8AC0f2wPCn7rxf%2BzDpHiBE5kvfBXjSMEj1EF9HCfw3k1vjMz56f1fDJxpLvrKT/mm%2Br7Je7FaR6yfm4Sjh6E/bZjhqiqt30g5U4635YeylLS%2Bsm43m1eXSK5DWv2Vfitc/C288JaxqOmakuieHn0vw5Y6bMyS6pG9yJbp53lCJDNPAvkbQSimR2L4IC%2Bn/AAb8N%2BLJfGPi74s%2BMtBudHn8S3VpDp%2Bi3k8Uk1pZ2sJRPNMLvH5jyyTvhHYBWQbjiuf/AOGz/Bmi/wDJS/hL8R/CSr/rLjWPBVxNAp/662YmQ/XNbPhb9sD9lzxlIINC%2BPXhczE4FteatHazZ9PLmKPn2xXnyrznFpndhK3DlLExdPEpSX2ZSUW2k0tJqEtE2krW9Wrur8Rvj58Vfhz4yvNLH7JvjHxF4fh8v7J4h8LX%2Bn3LXGY1Z/8ARZLiOVNrFl6HO3I61h/8N%2B/BHR/l%2BJPhjx/4Mb/qaPh5qUKD/tpHDJHj33Y969m03VdL1m1W/wBH1K3u4H%2B7NbTLIh%2BhUkVYpKdK1nD7m/8AgnrSw%2BYuTnRxOj1SlCMl6JxlF27b%2BrPLvC37bf7IPjJhHoP7SngxpGOFgutfgt5SfTZMytn8K9C0LxT4Y8UQfavDXiOw1GLGfMsbxJlx9UJFUvFPww%2BGvjgMvjX4eaHrAYYYappMNxn6%2BYprz3Xf2BP2MPEE/wBquv2bfCtrLnIl0nThYsD6g2xQj8Kf%2Bzvuvuf%2BRN88h0pT%2BdSD/KaPXqK8SH7AXwN0znwP4l%2BIXhg9v%2BEf%2BJerxAfQPcOB9MYo/wCGOvFOnfP4X/bR%2BMdmw%2B6t5r9nfIPqLm0dj/31RyUXtP70/wBGw%2BtZtH4sKn/hqx/9ujFnttRXdlZ38Rt760imjPVJYww/I14v/wAM/ftZ2Hy6N%2B3rqzoPurrHw%2B0m4x9TGkRP50f8Kx/by0zmw/at8FanjoNT%2BGDxZ%2Bphv/6Ueyh0mvx/yD%2B0cUviwlT5ezf5VEek6l8HPhFrJJ1f4V%2BG7onr9p0O3fP/AH0hrEvf2Uf2W9SJOo/s2eALgnr53g6xfP5xVyP9l/8ABRm0%2BWLxp8F74Do03h3VoGP/AHzduP0o8/8A4KOQ/wDML%2BCVx/2/6xDn/wAhPWi9rHaqv/AmYyxtCXx4Sp/4Ki//AG5m5P8AsQfsYXJ3TfskfDMk9SPAung/pDVdv2DP2JXOT%2ByT8Ofw8HWY/lHWX/bf/BReH/WfDj4NTf8AXLxdqq/%2BhWNH/CU/8FDF4Pwb%2BE7e6%2BONQH87Cr58Uv8Al9/5O/8AMzeIy574Of8A4INWP9g/9iaM5X9kn4cH/e8GWR/nHVu2/Yp/Y3szutf2TPhpGR/EvgTTwfz8muf/AOEn/wCChz8L8H/hKnu/jfUT/Kwo/tb/AIKMzfc8B/BaD/rp4p1Zz%2BlkP50OeKe9b/yd/wCYLEZetsHP/wAEI7Sx/Zh/Zq0sg6b%2Bzz4Gt8dPI8JWaY/KKt3TPhj8NtEIOjfD3Q7QjobXSYY8f98qK8u3f8FHZv8Alj8Erb/trrE%2BP/HUo/sH/gonf/Lc/Ez4PaeD/FZ%2BEdTnYf8Afy9UH8qhqpL4qi/8CbNY42jH4MJU/wDBcV/7ej2xI0iQRxoFUDAVRgClrxL/AIVH%2B3NqHzX/AO2P4asM9U0v4Vo2Po01638qP%2BGcP2mdT%2BTxL%2B3t4qMZ6po3g/RrP8mNvIw/M1n7KHWa/H/I1/tDFv4cJU%2Bbpr85s9torxI/sW3F7z4k/a7%2BNWoFvvKvjZLJT9BZwRED8apw/sKfskaxq82h%2BJ31zxPqdvGsl1ba/wDEbVLyZEbozxNdYAPqV5o5KC3n9y/zZLxeauyWHjG/81WP/tsGeu%2BJvib8N/BSs3jL4g6HpIX7x1PVoYMfXewrzzXv2%2B/2NPD1z9iuP2i/DV7PnAg0S8OouT6BbUSEn2FVvhd%2By7%2BwRewzXvwt%2BC3w31YWVwYZ7q10y0v2hlABKmRg5VsH1zXrOg%2BFfC/hW2%2Bx%2BF/DdhpsOMeVYWaQr%2BSACj/Z13f3L/MVOec4iClCVFJ9Vz1PxvGLPIP%2BG6vBOs8/Df4H/Ffxajf6u40f4e3UELf9tb0QIPxNH/C8v2w/FHy%2BCP2KxpcUn%2BqvfG3j2ztto9WhtFuX/DINe3Vm%2BIvGPhDwhb/a/FnirTdLixnzdRvo4Fx9XIFHtKS2h97b/wAhzwuO5eavi3Ff3Y04L75c7/E8i/4RD/goH4xGzXvjN8OPBUR5x4Y8K3Oqzj28y8mjT8fK/A0f8MZap4o/efGL9qv4o%2BJy/wDx8WVtr6aNZyj08nTo4Tj2LmtvW/23f2UtEu/7PHxt0jUrntbeHzJqcjH0C2iyE1S/4a1v9f8A3fwz/Zn%2BJmvM/wDqLmfw%2Bul2z%2B/m30kRx7hTR7eovhsvRL/gs8qVXhpy5amIdZ9vaTq/%2BS07r8DQ8D/sUfsofDu8/tTw18BvDzX27d/aWqWf2%2B63evn3Rkkz77q9Phhht4lgt4lREUKiIuAoHQADpXkH/CXftweLf%2BQD8HPA3hCL/np4m8TzalNj18qziRM%2B3m/jSf8ACiP2jPFv/JSf2u9UtYH5ksPA3h210wL7CeYTy49wRWcpzm7ybfqdmHxdGhDkwGCnbyhGlH75uL/8lbPXNQ1LTtIs5NR1W/htbeJcyz3EoREHqWJAFeY%2BIf21P2bNE1FtC0v4jxeItTHC6V4QtJtWnZv7uLRZAp/3iKo2P7F/7M8eswv450e58YawVMiTeOPEFxqksgHVhFcSNHj6IBXd/D7WfhRDNc%2BCvhtDptn/AGexEun6dYC2jXaxRigCqrgMNpKZAPBINZOpBSSbV2aOtnVWSi3So30V26kvSy9nC9vU4P8A4Xp%2B0X46Gz4TfsrX9hBJxHq3xE1iLTEQ%2BptofOnI9iqH%2BVB%2BC37TXxA%2Bf4sftNNotrJ/rNH%2BG%2BjpZY9vtlyZZj9VCf4eq6/4m8N%2BFbI6l4o8QWOm2w63F/dpCg/4E5ArhLn9qz4UXc72PgP%2B2PF90jYaDwno014o%2BsoAhA9y9ZVcVhqDtUmk%2B19fu1f4GFfC4Sm7Zhi5Tb%2BzzKCfpClaT%2B%2BRyHxw8LWfgr4j/sy%2BFNP1C/u4bH4wXsaXOqXz3NxJ/wAUV4oO6SWQlnY56k17xXhfx71a9134ofs0axqOgXWlz3Hxhvnk0%2B9ZDLAf%2BEK8UfK2xmXP0Jr3St4yUoprqe/SVONKKpq0bK2%2B1tN9du%2BvcKKKKZoFFFFABRRRQAUUUUAFFFFAHjP7eH/JEND/AOyzfDj/ANTXRK9SsvG/g7UdVm0Kx8U6fLfW8pins0u081HBwQUzn9K8t/bw/wCSIaH/ANlm%2BHH/AKmuiV6b4l%2BHfgTxgD/wlHhDTr5iP9bcWilx9HxuH4GuLG/2ioJ4Pkbvqp8yTXk4Xad%2BrTXkTLm6F3W/D2geJrJtM8R6HZ6hbN963vrZJUP1VgRXkPxj%2BFn7K3wL8F6n8XvE2rTfD3T9Pj8y71fw9rU%2Bn4PZFiibZI7HhUCMWJAAOcVD%2B0BrXwp/Zc8Gf8JfJ4%2B8V6TcXEhh0Lw3oN697catdYyLe2tJt/mMe%2BMKo5YqBXjnw4/Zc/ap/ab8T6F%2B0t%2B2L/Y18mmsbnwd8KNaLLaaYp5S5uxAgSW7I7MhC55APyJnhY%2B2jOvm%2BE5YQSf7uVOrOetrU4p06u97yklCKT96UrQfgZpOnWqKhTw6qVu7V4wX80pJJruoqXNLokryOb8LfAP9qb/goNpSeLfiP4%2B1jRfhDb6hHeeD/BXje3WS88TRocpPqJtPIdYGwGSMsxPUcbZG%2Bo9H1r9oz4d6VbeHz8B/DGqafZQJDax%2BDteFmsESABUS3uY1VQAMBQ%2BBjArfHxF%2BIujjHij4K6iUXgz6FqEN4p9wjGN/0pY/j98NYXEGv397osxODFrelz22P%2BBOm39a5sfxVk2K5KbrvCwhpGE%2BenFevtoWlJ9ZObb8kkksHktDBJzjXmqjS5pN722VpqSUVf3Yp2S7u7eR/wANO6FpPHj74X%2BN/DgXiS4vvDUlxAp/662vmrj34rV8OftI/ATxW4h0X4uaC0xOBb3GoJBLn08uUq36V0mi%2BMvCPiQA%2BHvFOnX2en2O9ST/ANBJpniPwJ4I8YRmLxb4O0rVFIwV1HT45xj/AIGproozxFamp0K0Kke9lb/wKEmj0FTzSC9yrCa/vRa/GEv0NG1u7W9gW6srmOaJxlZInDKfoR1rK8U/Dr4feOIzD418CaNrCEYK6ppcVwCPTEimuRuv2SvgC87Xmk%2BBTo87HIn0DUriwZT6gQSKPzFR/wDDPOu6V%2B88H/tEePbBl%2B5He6nDqEQ/4DcxOx/76rX2uOj8VJP/AAyX5SS/MmpPHShy1sPGa8pxa%2B6cUUdS/YY/ZQv7tr%2B0%2BDVhpVw3/Lfw9cz6aw%2BhtZI8VB/wx9Y6Z/yJf7RHxW0NV/1UEHjN7uJPYJeJMMe1av8AwhH7UOjfPpHx10HV8dItd8H%2BXn6vbTp%2Biij%2B2v2ttI%2Be98B%2BBdaUdtO166s3b8JYHA/76NH1xr46U18r/wDpMn%2BR5bwGTJ3lgJQfeMLfjRqR/Iyv%2BFJftR6T8vhv9s26njX7kXiLwLYXXHoXg8hj9c0f2Z%2B3npH7u28WfCnW0Xo95o%2Bo2EjfUxzTKPwWtX/hcHxr075vEH7LesbB959H8RWF3%2BStJGx/Kl/4aVt7b/kNfA74j2IH3mfwo06r%2BNu8go/tDCr4m16xkv8A20Xssph8NetT/wC36y/9LhNGT/wn37bGi/Lqn7OngzWcdX0X4gSQZ%2BguLMfqRR/wvz9orT/m1/8AYn8RBB1fSfFmlXX5AzRsfyFa3/DW/wADYPl1fXNV01%2B6an4Yv4MfUtBj9as2P7V37N2oHbD8afD6H0ub9YcfXzMYprMMA3b2sf8AwJL82hqeGvanmbXlKVF/%2BlQizA/4ay1e1%2BXWP2Tfi5bEfeMXhu2uV/AwXLk/lS/8NneCbf8A5DXwg%2BKenDubz4bajgfikbA/hXb2Pxu%2BDGp4OnfF3wxcZ6eTr9u38nrWtPGfg%2B/wbHxXps2enlX0bZ/I1vGvQn8M0/Rp/kzqhDHz/h4%2BMv8AuHSf/pNRHmX/AA3T%2BzrDxqereJbFu63ngHWEx%2BP2Uij/AIb0/ZQX/X/FNof%2BvnQL%2BL/0OAV67FPDOu%2BCZXHqjA06tTb2Ge9MRTf/AHCf6VTx/wD4b6/Y%2BH3/AI66Un/XWGdf5xilH7fP7HB/5uC0D8ZXH/stev0hVT1AP1oD2Of/APP6l/4Ln/8ALTyE/t9fscDp%2B0DoJ9lkkP8AJaP%2BG%2BP2Qj/q/jdp0n/XK0uH/wDQYzXr4AHQUUB7HP8A/n9S/wDBc/8A5aeQf8N5/srN/qPiRdT/APXt4Y1KX/0C3NH/AA3J8Bp/%2BQQvi/UD2Fl8PdXbP/fVsK9fqK4vrK0Gbq8iiHrJIF/nQ2luDoZ7bXE016Un%2BtU5v4WfFrRvi3p11qmieGPEemxWswjI8R%2BHrjT2lyM7o1nVS6%2B44zxXEfHKyvfC/wASvDXxD0jUpIYhrdpBrHl%2BJrozyLI3krBFYEm3ZW3guw2v8pIBPNek3nxA8B6fn7f420iDHXztSiXH5tXJ6v8AEP8AZUg8Sx%2BNNb8a%2BAP7agQJDqk%2BoWRu0UZwqyE7wBk8A9z61jLEYeHxTS9Wl%2BpnjYxq4KNKrXhzpp8zahs73SUn6WvZ63aueaftCX3h4%2BONY13U7m2l1mTSdOf4a3UTq0ss8d1%2B/gs36mZ2IV1Q7mRyDlQcQTeE7zUvHl74G0/Rbq28WT%2BIdda71MWUih9Nu7RykpnxtMe8xoi7sq0YAAC5Hpj/ALV/7Mulqtna/FjRWCDCQ6eWmwPYRKf0pP8AhrD4R3Xy6BF4l1duy6Z4O1CTP0JhAP51i8xwH/P2Pyaf5XPGq4XKauIlUni4au7Ss3rvqm3zdIytdR01Mb4Daf4ju/H0Gt3HhTU9Ih03wFY6LrMeoabJbJLqEErf6ncoEyKu8eYmVIZMH06r4p/Cjxt8RdWtptE%2BPnibwpp8Vt5dxYeHbezDTvuJ8zzpoJHU4IGBxxnGc1nf8NF6hefLoX7PPxGu2P3TNoUdqp%2BpuJkI/Kk/4Wj%2B0JqH/IH/AGYZIFb7sms%2BMLSHHuVhEp/Cl9fwz%2BFt%2BkZP/wBtR6NH%2BzI4L6tKU6ibu%2BWNRX2/kUbLRXSlZ6t72WV/wxb4B1T5fHnxS%2BJPidD96HWfH16sR/4BbNEo/ACtHw9%2Bxb%2Byl4Yn%2B16f8BPDc8%2Bc/aNUsBeyZ9d9xvbPvnNSfaP2vdU%2BaLTfh5oyN0E1ze30i/gqwqT%2BNH/Ctf2jNV%2BbXP2kobJW%2B/DoHhC3jwPQPcPKfxwKPrc5fBRm/ko/%2BlS/QiGBylS5qeXuT7yhG/31ZzZ3%2BieHfD/hq0Fh4c0Kz0%2BAdIbK1SJB%2BCgCre5d2zcNxGQM84rzX/hmmy1H/kb/AIy/EDWVb/WQzeJnton9tlqsQxW/8P8A4G/Cv4XalNrXgfwklpe3MHk3F7JcyzzSR7g21pJXZiMgHr2q4VMXOa5qaivOV39yVvxPYoVMa5KPsYwh/jTaXkoxt%2BKKXxr8QfEDwjpUfibwheNJDbkedp8OiG5MhGWZpZA%2BYoggOSqFs4wTkLUHxR8P6/4ruNE8V%2BG7%2B1utLtreaS8tLnxHc2FtMrBGjlJgBEuCvAfC4Y81c%2BK0um6nqGkeDtRvtXih1Kdo7saXeCEGJsRgSnBYqzMFwpByeuKzPHWnaPZtc6RB4N0e90zRNOh1G5sNWsjcB1XdGBFvbbFtSNjnackYwM5rxsdmOFpOvzSbUXFNK7alZz27cqblvomrN6GGIw9WrUqpv3Xy21eklrpZOy7rr2ONvtYtdf1mPxynhy7i1nxAdE1PwrI9m7ypuXyprbzAPlWNdzSKSARIWwd1dL4G8E%2BL9I8W%2BHtDudAuobfwrLqaHWWljMF5ZTsfIiUBt5f/AFJbK4BhPJ3CtKPxD4pS/mvbHWiIn1eTSrfTfIjWKAGINA6gLu3DIZskggnAAFO%2BFeoL/aljb6ZqE00OoeHUvNSgnu3me3vAyK24uSVLbnBHAzEeK83DZphqmPhS5ZXlLf3Vf3nZ2V73lFt6qUI2umr2xo5bGNVTlNt3T0SV9b677yV77pWWx1Hib4e%2BBPGt5Z6h4w8HaZqs2nbzYvqNkk3kF9u4rvBwTtXn2FakMNpp9qIYIo4IYlwqIoVUUew4ArF8YaF4h8RT29loHxBn0VUVjdx2drDJLMDjaQ0gPl455AOcjpjnIT4C%2BB7txN4tutW8QyA5Da5qssyj/tmCsf8A47Xt18VmKxM4YPCqXRzlUhGLdl0ip1HbbVR%2B6zPW9moVHKMEm93or%2Bul38zi/wBpi4t7v40fs33NrOksb/GW%2BKSRsGVh/wAIV4o6Eda9prxL9o7TNN0b4wfs26XpFhDa20Hxkvlht7eIIiD/AIQrxRwFHAr22vXp%2B09mvaW5rK9r2v1tfW19r69zZXCiiirAKKKKACiiigAooooA5jw58bfgx4x%2BIOs/CTwj8XfDGq%2BK/DiK/iHwzpuv20%2BoaWrY2tcWyOZIAdy4LqM5HrRa/G34M33xTufgXZfFzwxN43s7AXt54Oi1%2B3bVYLUhSJ3tA/nLGQ6fOV2/MvPIr44/Z48PeM/Bfxq8B6H4g%2BEHjXTtS%2BGPif4k3/j/AMTHwPqLWupW2saxJJaC1uUgK6kb157W9ZLcymEWjeeInjC1d8HfD/4gxftSeHvhvL8KPFEOvaD%2B074k8e614zl8NXSaVN4dvNC1O3tpE1Mx/Zp5Ct7Yaf8AZVkMyfZmYxiOFXoA97/bw/5Ihof/AGWb4cf%2BprolVv2of2pPA37LU9tp2j2Oq%2BK/H/iomHwn8PNLu2ln1CdjxKU58iEEHdKRgANgEggJ%2B2z8H/2n/jD4U0XS/gB4q8BLbaT4w8N67qHhzxhpt7C%2BqtpevWOpmOPVLaWQWIZLQrlrC63MQPkDbl8C/Yc8C/taWFx4q/aKtf2dPht4p8Z6z4z8QaLq3i/xh8ddRN8F0zV7vTXt4Fi8MFIbffZsVCbd67CyphYo9aODyevVjiMdDndJ80Iq6blZr4k1yxt8Wkm1olfWPFjZ5lyKjhGo8%2Bkpuz5V5R%2B1J/Z2inrK60fp/wAGf2T/AIvnXbj9pL9qPWtP8TfEnWbcQQadAr/YfC1q7DbaWQG4fLkl5MfM3OWK72958Zy6bPp9s099Zp9n3TCyuiR5%2B1Su1eVOQehweQOOa8%2B/4Tj/AIKF/wDRr/wZ/wDD8at/8y9I/jT/AIKDyACT9lv4LsAcjd8d9WOD/wCEtXy2eZA83xGMr%2B097ExhFxkm4QUHeKglZqKdnyNyhpZq0p378v8AZZfQp0oLSLbvf3pN7uTe7fV6PtZJJd/cajfGZpbK6mt1tHtYYLPcCHZwGZXzkk7WA68YzVnTtev9QvrY3Qhez1FpxBB5R3KiZw5YnBDAdMfxCvL5PEH7e8uorq0n7KPwWNygwsp%2BO%2BrZHBH/AEK/XBPPvUGm6r%2B35pd0buH9mP4PuQrLCknx71YrCrHJVB/wi3AJA9egFeRRyPiLD4%2BMo1703O7tJpcqas3FprWF6fs4Wgnyyd7K3dKvhpU2nHW3b9fXW713R6nrXwg%2BFviFjJq/w/0mVz1mWyRJP%2B%2BlAb9azf8AhRPhay/5FnxF4j0Ydk03xBPs/wC%2BJGdfwxXjE3xy/bs8ZfGXW/gdbfs0fDOx1Xwx4Y0nXbq8tfj9qkcEsGpXGpW8KKf%2BEYJZ1bSpywZQAJI8FiWC9fpniz/gohYWMdnP%2Bzd8H7pkBzPP8eNV3vyTzjwsB7dO1erPJcuxOZTjVy6Cja6qpwTk9LpqCp1IvfVyadvNHBKjQcFK6v2s1%2BOx3H/Cvvihp3Gh/G%2B7dB92PV9Gt7j82QRt%2BtG39oXT%2BBJ4Q1NV7stzaO35eYM1x3/Ccf8ABQv/AKNf%2BDP/AIfjVv8A5l6P%2BE4/4KF/9Gv/AAZ/8Pxq3/zL10f6vYaH8CtWp/4a02vun7RGXs10b%2B//AIc7H/hOPi9Zf8hL4JGYD7z6Z4hgkz7hZRGaP%2BFyyW3Gr/CfxjakfeZdHE6j8YXeuO/4Tj/goX/0a/8ABn/w/Grf/MvXL6t%2B0d%2B3bo/xn0D4HXH7KHwkbVPEXhfV9ds7lPjrqnkRwadc6bbzI5PhjcHZtUgKgKQQkmSpChj%2By82p/wALHz/7fp0Z/kqbDln0l%2BR61/w0F8Lovl1PVr2wbuuoaNdQ4%2BpaPH61teFPiJ4G8ctKnhDxTZ6g0KhpktpgzID0JHUV5n/wnH/BQv8A6Nf%2BDP8A4fjVv/mXpieL/wDgoFFK08f7K/wWV3HzOvx11UE/U/8ACLVvhqOe0669vXpzh1tTlGXyaqSj96GlUT1a%2B7/gnofj3xtqXh2SCx8P6fHdXBmgN35obZDDJKIwTj%2BJiSFHtzxUHxB1yG1uGsLfwpYanJBYSXt6L/AVIEyML8jZc4OAcDjkivJ/F2l/tseNZorzW/2Q/gg9zHNE/wBr/wCF4ap5rLG4YIWPhbO04wR6E4qDxLB/wUX8QESRfAP4N28k1jJY38i/G3VGM9s5ztX/AIpgBGAJAbnG48GvOxtLiLmxLpu6k48nK1dJKV1aasm3yNtuSa5rWsk4nGck09V/Xc7%2B80v4T61q0cVx8D/D11YNcW9vc3t1ptuXSWZAyAIYyGUblDHcCCeAeTVLR/hT%2Bzh4t1SKzm/Z78N28F9FLLpd2uj2yi7SNgHIVFBT7wPPUGvJPi98Sf28vgvYWnjjW/2a/hFLot9438O6f/Zll8a9Uab7bf6hZ6TbN5jeG1UQrNcwyyDaWwjlc8Iep8L2v/BQ7w9d6bLP%2Bzv8F7iHR7Ca006Jfjdq6MqSMhJdv%2BEZO5gI1GQF7nvxy0sLnksVH21OLhza3jSta9nbS6hy6x%2B1z6PQ5ZYHC1H79KD9Yw/%2BRPRJf2Qv2aZW3/8ACndIQ%2BsMbR/%2BgsKb/wAMg/s7D/VfDzy/%2BuOrXaf%2BgyiuL8XXf/BRDxZFBHD8DPhjpJgZjv0j9oHVIzJnHDbvCjZAxx9TWH/wjn/BSaP/AFHgvwQP%2Bun7QF638/B9ehiqU6NdxpZdGpH%2BZSoxv/27JJq225Espyy%2BmGh/4DFfoj1D/hkX4BD7nhTUE/65%2BKNRX%2BVxR/wyN8Ce3h/WB9PGGqf/ACTXl/8AY3/BTpf9X4Q%2BHo/3vjndt/7qFcv8bfiF/wAFJvgP8GPF3xx8U%2BBPAd1pfgzwxf67qVrYfGm4a4mt7S2kuJEjD%2BE1UuVjIUMyjJGSBzXPzV/%2BhU//AAOh/wDJIn%2Byst/6Bo/dE94/4ZG%2BBHfw7q5%2Bvi/VD/7c0f8ADInwA6P4PvX/AOuniXUG/nPXl/8AZX/BUM/e8J/Dn8PjbdD/AN1Gj%2BxP%2BCmzf63wf8Pz/ufHW7X/AN1CjmrvbKn/AOB0P/kmH9lZb/0DR%2B6J6h/wyB%2Bzk3%2Bt%2BGkMv/XfULmT/wBClNS2/wCyR%2BzTanMfwY0Nj/01td//AKETXlX/AAjP/BSF%2BZ/BHgpvZP2hb5P5eEKP%2BER/4KFv/r/hr4Nf/u5XVk/9A8KChfXOmVR%2BdSh/8gxrKstW2Fh/4DD/AORZ7NZ/s5fs/WGDbfBHwoCOjN4ft2P5lCa17H4YfDTS8f2Z8PNCt8dPI0iFMfkteBf8IN%2B3XJ/x%2B/BDwLc%2Bon/ag8Qf08MiuX%2BCN7%2B038e/gx4Q%2BOWg/sd/DQab4z8L6frunW%2Bs/tJ6%2B08Vvd20dxGkqr4eZA4WQBgpYZBwSOa2jLOV/DwFKPrVj/7ZQZvDCYen8FGC9FFflA%2BukTStHh2otvaxjsAqL/SqF78QPAem5/tHxtpFvjr5%2BpRJj82r5/g%2BG37UcD%2BYP2GvgRI3rcfHTV5T/wCP%2BGDWnZaN%2B1/p2DYfsOfs%2Bwkd4/jHqAP5/wDCK1sp8Ty2p0Ies6svyhA6V7RKySX3nq158evg1ZNsk%2BJGlSHsLe5EpP02ZzUB%2BPngC440aLWtSbsun%2BHruTP0PlgH864ez8Tft86eu2w/ZP8AglAPSH456qv8vC1T/wDCcf8ABQv/AKNf%2BDP/AIfjVv8A5l6Pq/EtT4sRSj/hpSl%2BM6q/FBar3X3f8E7H/hbmtXnyaJ8GfFk7Hobq1htVP4yygj8qP%2BEs%2BNuofJp/wjsLLPSTVPEanH1WGN/515N4B/aO/bt%2BInivxv4Q0f8AZQ%2BEkNx4D8URaFqslz8ddUCTzyaVp%2Bph4tvhgkp5OowqSwU70cYwAzdR/wAJx/wUL/6Nf%2BDP/h%2BNW/8AmXo/srM6n8XH1P8AtyFKH/tk3%2BIcknvL8jsf7P8A2gdS%2BS68S%2BFtKU97PTZ7px%2BMkiA/lWv4R8NeMNGu5bvxT8RLjWfMj2pA2nQ28cRzncAg3E9uWNeb/wDCcf8ABQv/AKNf%2BDP/AIfjVv8A5l6P%2BE4/4KF/9Gv/AAZ/8Pxq3/zL1vh8lw9CtGtKrVnJbc9WbX/gK5YP5xY1BJ3u/vO98b/DGPxfdvqUPiXUbOdhb4SC42xfuZC6EhQGyCzYwwwTmoviB4S/tHT3ujfz/bJo3tFS12oLmBiSYJAwfKhdxLDDfeIIya8%2BvfFP/BRG7ubeeP8AZy%2BEECwOWeKH48aptm9mz4VJx9Mda5YfHT9tvxl8Y9c%2BBNz%2ByT8JW1Lw14a0jX7m5f486stu8Go3Gp20KIV8M7i6tpk5cFQuJI8FiWC%2BbmeSLF4XGQw9FQqVLJSc9JO3xJLm5XHmkleOr1s4tp7U4UI1Iynquq1/zX4WPa9V8KWF62neMNC0qZbtmheQ2rruKGPaG2yHyy4UhQ5G4LwDUFz/AGSbqTUrV2snNlLIZBiN3uYZMOZNmBI3bnIx06155p%2Bpft%2B6dpSaNb/szfCBYETaqxfH3V4yOScgp4WBB5x1qePXf29IrRLH/hk74KPFG%2B9Fl%2BO2rPhs53ZbwuSTnv1rxK/C%2BZ45c75Kcpxg5q7cfaxik3Hk5ZRTblKUk05OMNNGdlOvhqL91Xs3bRJ2fe99baelz0GISDVUaS2KajLqkU8biI5e3ZF3gtj7qjeME9VFdNqlndX9g9paanLaSNjFxCqllGecbgRyOPxryL/hOP8AgoUOn7L3wZ/8Pxq3/wAy9H/Ccf8ABQv/AKNf%2BDP/AIfjVv8A5l6%2Biyrh6nl2Hr0Z1HONXe14PaV23GSfO%2BZ3mnFu0esbvGriXUlGSVrfP8%2Bmm2vUh/aRtGsfjF%2BzbaPdzXBj%2BMl8DNOwLv8A8UV4o5JAAz%2BFe2V8r/E/xL%2B1bq/7Sf7Olr8a/gv8PfD%2Bjj4uai0d94W%2BJ19rFyZ/%2BEL8TbUME%2Bi2ShCCxL%2BaSCANhySv1RXvUqUKNKNOCsopJbvRKy1bbfq233bepztuTuwooorQQUUUUAFFFFABRRRQAVR8UeIbDwl4a1HxXqoc2umWM13ciJct5caF2wO5wpq9Ud3aWt/ay2N7bpNDNG0c0UqhldSMFSDwQRxigD5v/Y1/al%2BPnxU8YaN4V%2BP%2Bm%2BEkfxv8J9O%2BIHhdfCen3Nv/AGXb3EoSfTLpp7iYXUkImtNt3GIFlLy/uItg3eV2H/BR74y/Dr4YH40%2BJfh/4MuvDfjv4X%2BK/HXwz0DQtOuLG5spbG9tBb2mpXDzypcveLqcM8k8UMHkukylJtyvXvPwA/YX8Ifs6arb6v4T%2BMvjrU5dO0XTtA0Ma/c6dcDSvD9k8rwaNCVskJt8y/PNIXvJBFFvuW8tcY2k/wDBM74DW1p4g8PeJPFXi3X/AA9q3hLXPDGh%2BGNW1G2W08LaTq9wlxf2unNb28U6B5Ibco88s8kK20SRPGq7SAdN%2BzJ8XPjH4j8feP8A4F/H%2B78M6h4m8C3WmTLrnhDR7jTrHULG/tPNib7NcXNy8MqSxXMTDznDLHHINm8xp7FXnfwA/Zz0r4DHxDrFx8SPE3jTxF4r1GG78QeLPGElmb678i2jtoIttlbW1vHFHFGAqxxLlnkdtzyOzeiUAFfLvwG/bG%2BNvxA%2BMXhaTxtpnhZfAfxM1rxdpngqz0vTbmLVdLk0W7lihkvLh7l4rpbu3trmYrHDAbdvLjzPkyD6irwzwd%2BwZ4G8BfEmb4jeF/i743gFtdazdeFNCefTpbDwtPq16t5qUtij2RdmnlDj/SXnEKTSxwCFXxQBT1z4qfHH4eftqeEfhnrWo%2BAdd0r4iNqaLpGh%2BF7q213QdHsLWaeLUbu9e8ljurcXTxWpQW8AWbVI9jNh92R/wTh/an%2BLv7R/gXzv2i/E%2BiWXjv8A4RnSNV1n4eW/wn1vwpfeHGuo5TIsi6vdzPqMBlR4o7qBI4i1tLy5OE63wN%2Bxp/wgP7Sniz9pfTv2lPiFd3vjSdTrPh7UotDmsVt4rd4bWyhl/swXsFrbmR5o4UuQvnPJI%2B8yy%2BZsfBv9l%2B2%2BFvxF1T4v%2BLfjT4y%2BIPinUtEt9GTW/GR02N7PT4ZZJhbwxabZWkChpZWd3aNpGIQF9qKoAPUaKKKAPl39pr9sb42/Cv4p%2BMX%2BHmmeFm8G/CbRfDep%2BO7bWdNuZtR1iPVL64imjsZo7mOO0a2tbfzw0kVwJ5JRFiEKZDN%2B2R%2B0r8TPgV%2B0L4Os7bV/D3hLwNJ4R1K88S/EXxH8ItZ8RW2myLe2CLaS3thd28GkQyRtLK8923lf6MpPCV23xn/Yh%2BHHxu%2BKR%2BJmueOfFWlxaja6Ra%2BL/DWjXVqmneKYNLvZL2xivllt5Jgsc00ufs8sBljkMUxljCoJ/jp%2ByTdftCeCZfhj48/aW%2BIcXhjVNHuNJ8XaDpi6LDF4kspy4mhuZf7NM8IaJ2gLWklu3lnrv%2BegDzzUv2xvjba/tAXcsGmeFv8AhWOn/Gaz%2BGlzYPptydblvLjTYJxqa3X2nyFiW8uYrb7KbcsY1efzwcQ19RV4vcfsO/DWf49/8LwHjbxTHaP4ph8UT%2BA47m0Ghza9Fpy6dFqbJ9m%2B0%2BatskYEQuBb%2BZEkxhMo8yvaKACvnr9rz9on9oDwH8QIPhd%2Bzha%2BEV1PT/hrrvjfWbjxlptzdQ3UFhJaxQ6bCLe4gMElw9xJm6YyrAIR%2B4mMmF%2Bha8j/AGl/2PPB/wC0zqFlrWo/Enxf4R1C38P6n4fvtR8G3lrDNqWi6h5BvNPmNzbThY5GtoWEsQjuIihMU0e99wBzX7Tnx38ZQfsV/wDDXXwv8WeE9D0bTfBY8ZXln418B3GvNdQpape20EEVvqVkY7nzAgQ5kJk2BVDYNcNe/tY/tW/D746%2BA/hp%2B0Nrng/wRpF38PvCF54t13/hUOvajpeo%2BJdQvb221HSrfVor9bPSArQWiQfbDMxe9j/1vCH3Hx5%2BzD4L%2BI/w0svg/wCJ/Emst4c07xRpOr2mlWotIY1h028t7u10whLcbrISWsQZGzI6Ao0hViKqfHT9lqD9oLXLZPG3xv8AGtv4SWaxm1P4e6YdMj0rVZLW5W5jM8rWTXwDSJHvSK6jR1jClcM4cA9UooooA8X/AOCgvxd%2BOH7P37I/jT49fAK98KR6x4J0K71y6g8YaLc31td2lrbSzPboltdWzJK7IiiQuVQFiUfgVd/bB%2BJ/i7wJ4O8NeBfh7pmg3GvfEfxla%2BFNNl8VabJe6ZarPDPcXM1zbRywtcotpa3OIRLH5jlFLqCSNT9rH9nGy/a0%2BBGvfs%2B618VfFPhHSfE9lLY65f8AhBdO%2B13NlLE8U1tuv7S6jRHV%2BWRFkBUbXXnOd43/AGVpPiV8OrPwR48/aC8dajqek6np2qaB4xMWjwanpOpWZJW8hEGnJbM8gZ1kSWCSFkkdPLCsVIB4JJ%2B3d%2B1b4y0P/hDPhno3gC28beE9C8dal44udZ0i9m03Un8OawNKjtrKOO7SS0F826cTSSXH2RQEMdyTuH1t8L/HumfFT4aeHfifoltLDZeJNCtNUtIZ8b0iuIUlRWx3AcA%2B9eIeIf8Agml8J9Y8C6T4P0b4ufEDQbyz03xDp2u%2BJ9F1KxXUvElprt2t7rEV68tm8YNzdKJvMto4JYGyLd4FJU/QWh6JpHhnRLPw34f0%2BK0sNPtY7aytIF2pDDGoVEUdgFAAHoKALVc18YpPibD8MtYn%2BDmtaDp3iWK136Ze%2BJtKmvrGIqwLmWCCe3klHlh8KssfzFctjNdLWF8TPB2qfEHwHqfgvRviDrPhW41G38lPEHh%2BGzkvLMEgs0S3tvcW5JAKnzIXGGOADggA4L4CfFH4wftDfsR/D/41%2BH7nw1o/jXxx8ONE1xpbzSri40uzvLyyguJT9mW4SaSJTI%2B2Pz1YgKDJ1avAL39sz9qLQfg5p6%2BA9I8K3UGj/HO78Cah488HfBrXdf0eTQrPRLq5fUbTRNNvWuo1i1GFNJci5liSWCVs7SoX2Lwl%2Bw1P4M/ZLT9jzSf2t/iuug2vghPCula/DPoltrGm2MaJFE8FxbaXGqzJAghWUoTtJc5lxKNHwf8AsjeJvh78ENJ%2BBvgH9rz4jaJa6FcIuk6vpeieFYbi1sEt1gj01IV0T7Gtsm0OpFv5wY483ZhAAehfB3xvpvxK%2BE/hr4gaR440jxNb6zodrdp4h8P2jW9jqReJWNxBE8srQxuSWWNpJGQEKzsQSekrl/gr8IfBvwD%2BFOg/Bz4fxXK6R4e09LSza%2BuWmnlAyWllkbl5HYs7N3ZicDpXUUAFeL/sc/F344fEq6%2BKXg74/XvhS71n4f8AxMbw9bX3g/Rbmwtbi1bRtK1JC0VzdXLmRW1B4y4cK4jVgiZIr2ivF/gT%2Bx5rHwJ8aeL/ABraftZfErxHJ448Vw%2BINesfENp4dED3aWtvZkJ9k0iB0je3tLaJgHziEMpV2dmAPDPBH7f/AMVfBvw3%2BMXxE%2BL0Hhq28XeGtL8Qaxonwwb4Ua14Zvr%2BOyv30%2ByvG1K/upItWt5I109ZLm1h2RfaYuQNiH3n9mT4ufGPxH4%2B8f8AwL%2BP934Z1DxN4FutMmXXPCGj3GnWOoWN/aebE32a4ubl4ZUliuYmHnOGWOOQbN5jTM1z9gjwN8RNV8Qar8evjB45%2BIZ1zwTq/hK0g8ST6dbJouk6nJA97Daf2bZWp8xzaWmJ5jLMn2ZNrqS5bsfgB%2BznpXwGPiHWLj4keJvGniLxXqMN34g8WeMJLM3135FtHbQRbbK2treOKOKMBVjiXLPI7bnkdmAPRKKKKAPF/gr8XfjhrX7XHxZ%2BAvxUvfCl1o/hjQvD2ueEJ/D%2Bi3NrcxWmpXOsw/Z7x5rqZbiVF0yJvMjSBcyuNhwDXP8AiT4iftLeFf2/PBfwg0zxV8OdV8OeLtI1jWPENnB8Pry31nS9B05Eit9%2Bo/2q8Ush1DUbdVVrRVZGuiqqVJroNF/Y81jQP2i/GH7SWnftZfEoah4z0qy0y90J7Tw6dPs7SznuprSKAf2R548o3t0oaSaRmWY7y5VCvaaX8C/Cul/HDxL%2B0CmranNr/iTwxpugN580Zh06yspbuZFtlEYKM8t7K8jMX3lIhwI1AAPHf%2BCcP7U/xd/aP8C%2Bd%2B0X4n0Sy8d/8IzpGq6z8PLf4T634UvvDjXUcpkWRdXu5n1GAyo8Ud1AkcRa2l5cnCfS1eXfBv8AZftvhb8RdU%2BL/i340%2BMviD4p1LRLfRk1vxkdNjez0%2BGWSYW8MWm2VpAoaWVnd2jaRiEBfaiqPUaACvB/2tfjN%2B0F8BvEnhfxd4M8QeCL3w9rXi7QvDtt4FvvDl5JrmuXN7fLDctaXsd6sUJgtWkutjWkw8u0mZ3jQF4/eK8Z%2BJP7HK/ET9p3RP2prf8AaO%2BIGhar4f0MaVpmgaZDolxpcEDzebctGl9plxNDLcgRxzSxSo7RwxorIByAcL%2B2x%2B1D8Zvhb4y8QWfwa8OeDrpPhP8ACm6%2BJXiYeLNKnuZtRhVrqGLT7CSK4hFjPLDa6gpu3E6pujXyXV3Iqx/ts/GLUPjWde0rTvC5%2BFcXxesPh09jLpdz/bktzd6Zb3C6otz9p8lIlvLqK2NqbcsY1ebzwcQ13Hx0/YR8FftBtFN42%2BMHji2mu/C934Y8Xz6RcadA3ivQrmYSyaZfD7EVWL76LJbC3nRJpQso8xybU/7Dnw0m%2BPX/AAu9fGviiK0bxTD4on8BRXNoNDm16HTl06LU2T7N9pEq2yRgRC4Fv5kSTGEyjzKAPaKKKKACiiigAooooAKKKKACiiigAooooAKKKKACiiigAooooAKKKKACiiigAooooAKKKKACiiigAooooAKKKKACiiigAooooAKKKKACiiigAooooAKKKKACiiigAooooAKKKKACiiigAooooAKKKKACiiigD//Z\">"
      ]
     },
     "metadata": {},
     "output_type": "display_data"
    }
   ],
   "source": [
    "try:\n",
    "    display_html(HTML(anim.to_html5_video()))\n",
    "# In case the build-in renderers are unaviable, fall back to\n",
    "# a custom one, that doesn't require external libraries\n",
    "except RuntimeError:\n",
    "    anim.save(None, writer=matplotlib_utils.SimpleMovieWriter(0.001))"
   ]
  },
  {
   "cell_type": "markdown",
   "metadata": {},
   "source": [
    "# Logistic regression\n",
    "Your assignment is to implement the logistic regression\n",
    "\n",
    "Plan:\n",
    "* Use a shared variable for weights\n",
    "* Use a matrix placeholder for `X`\n",
    " \n",
    "We shall train on a two-class MNIST dataset\n",
    "* please note that target `y` are `{0,1}` and not `{-1,1}` as in some formulae"
   ]
  },
  {
   "cell_type": "code",
   "execution_count": 49,
   "metadata": {},
   "outputs": [
    {
     "name": "stdout",
     "output_type": "stream",
     "text": [
      "y [shape - (360,)]: [0 1 0 1 0 1 0 0 1 1]\n",
      "X [shape - (360, 64)]:\n"
     ]
    }
   ],
   "source": [
    "from sklearn.datasets import load_digits\n",
    "mnist = load_digits(2)\n",
    "\n",
    "X, y = mnist.data, mnist.target\n",
    "\n",
    "print(\"y [shape - %s]:\" % (str(y.shape)), y[:10])\n",
    "print(\"X [shape - %s]:\" % (str(X.shape)))"
   ]
  },
  {
   "cell_type": "code",
   "execution_count": 50,
   "metadata": {},
   "outputs": [
    {
     "name": "stdout",
     "output_type": "stream",
     "text": [
      "X:\n",
      " [[  0.   0.   5.  13.   9.   1.   0.   0.   0.   0.]\n",
      " [  0.   0.   0.  12.  13.   5.   0.   0.   0.   0.]\n",
      " [  0.   0.   1.   9.  15.  11.   0.   0.   0.   0.]]\n",
      "y:\n",
      " [0 1 0 1 0 1 0 0 1 1]\n"
     ]
    },
    {
     "data": {
      "image/png": "[encoded data removed]",
      "text/plain": [
       "<matplotlib.figure.Figure at 0x7f61e20f9c88>"
      ]
     },
     "metadata": {},
     "output_type": "display_data"
    }
   ],
   "source": [
    "print('X:\\n',X[:3,:10])\n",
    "print('y:\\n',y[:10])\n",
    "plt.imshow(X[0].reshape([8,8]));"
   ]
  },
  {
   "cell_type": "markdown",
   "metadata": {},
   "source": [
    "It's your turn now!\n",
    "Just a small reminder of the relevant math:\n",
    "\n",
    "$$\n",
    "P(y=1|X) = \\sigma(X \\cdot W + b)\n",
    "$$\n",
    "$$\n",
    "\\text{loss} = -\\log\\left(P\\left(y_\\text{predicted} = 1\\right)\\right)\\cdot y_\\text{true} - \\log\\left(1 - P\\left(y_\\text{predicted} = 1\\right)\\right)\\cdot\\left(1 - y_\\text{true}\\right)\n",
    "$$\n",
    "\n",
    "$\\sigma(x)$ is available via `tf.nn.sigmoid` and matrix multiplication via `tf.matmul`"
   ]
  },
  {
   "cell_type": "code",
   "execution_count": 157,
   "metadata": {},
   "outputs": [],
   "source": [
    "from sklearn.model_selection import train_test_split\n",
    "X_train, X_test, y_train, y_test = train_test_split(\n",
    "    X, y, random_state=42)"
   ]
  },
  {
   "cell_type": "markdown",
   "metadata": {},
   "source": [
    "__Your code goes here.__ For the training and testing scaffolding to work, please stick to the names in comments."
   ]
  },
  {
   "cell_type": "code",
   "execution_count": 174,
   "metadata": {},
   "outputs": [],
   "source": [
    "# Model parameters - weights and bias\n",
    "weights = tf.Variable(np.zeros((X.shape[1], 1), dtype='float32')) #shape should be (X.shape[1], 1)\n",
    "b = tf.Variable(1,  dtype=tf.float32)"
   ]
  },
  {
   "cell_type": "code",
   "execution_count": 175,
   "metadata": {},
   "outputs": [],
   "source": [
    "# Placeholders for the input data\n",
    "input_X = tf.placeholder('float32', shape = (None, X.shape[1]))\n",
    "input_y = tf.placeholder('float32', shape = (None))"
   ]
  },
  {
   "cell_type": "code",
   "execution_count": 176,
   "metadata": {},
   "outputs": [],
   "source": [
    "# The model code\n",
    "\n",
    "# Compute a vector of predictions, resulting shape should be [input_X.shape[0],]\n",
    "# This is 1D, if you have extra dimensions, you can  get rid of them with tf.squeeze .\n",
    "# Don't forget the sigmoid.\n",
    "predicted_y = tf.squeeze(tf.sigmoid(tf.matmul(input_X,weights) + b))\n",
    "\n",
    "# Loss. Should be a scalar number - average loss over all the objects\n",
    "# tf.reduce_mean is your friend here\n",
    "loss = tf.reduce_mean(input_y * -tf.log(predicted_y) + (1.0 - input_y) * -tf.log(1.0 - predicted_y))\n",
    "\n",
    "# See above for an example. tf.train.*Optimizer\n",
    "optimizer = tf.train.MomentumOptimizer(0.01, 0.05).minimize(loss, var_list=[weights, b])"
   ]
  },
  {
   "cell_type": "markdown",
   "metadata": {},
   "source": [
    "A test to help with the debugging"
   ]
  },
  {
   "cell_type": "code",
   "execution_count": 177,
   "metadata": {},
   "outputs": [],
   "source": [
    "validation_weights = 1e-3 * np.fromiter(map(lambda x:\n",
    "        s.run(weird_psychotic_function, {my_scalar:x, my_vector:[1, 0.1, 2]}),\n",
    "                                   0.15 * np.arange(1, X.shape[1] + 1)),\n",
    "                                   count=X.shape[1], dtype=np.float32)[:, np.newaxis]\n",
    "\n",
    "# Compute predictions for given weights and bias\n",
    "prediction_validation = s.run(\n",
    "    predicted_y, {\n",
    "    input_X: X,\n",
    "    weights: validation_weights,\n",
    "    b: 1e-1})\n",
    "\n",
    "# Load the reference values for the predictions\n",
    "validation_true_values = np.loadtxt(\"validation_predictons.txt\")\n",
    "assert prediction_validation.shape == (X.shape[0],),\\\n",
    "       \"Predictions must be a 1D array with length equal to the number \" \\\n",
    "       \"of examples in input_X\"\n",
    "assert np.allclose(validation_true_values, prediction_validation)\n",
    "loss_validation = s.run(\n",
    "        loss, {\n",
    "            input_X: X[:100],\n",
    "            input_y: y[-100:],\n",
    "            weights: validation_weights+1.21e-3,\n",
    "            b: -1e-1})\n",
    "assert np.allclose(loss_validation, 0.728689)"
   ]
  },
  {
   "cell_type": "code",
   "execution_count": 178,
   "metadata": {},
   "outputs": [
    {
     "name": "stdout",
     "output_type": "stream",
     "text": [
      "loss at iter 0:1.5850\n",
      "train auc: 0.998847167325\n",
      "test auc: 1.0\n",
      "loss at iter 1:1.6806\n",
      "train auc: 0.999341238472\n",
      "test auc: 0.998517786561\n",
      "loss at iter 2:0.2438\n",
      "train auc: 1.0\n",
      "test auc: 1.0\n",
      "loss at iter 3:0.0241\n",
      "train auc: 1.0\n",
      "test auc: 1.0\n",
      "loss at iter 4:0.0152\n",
      "train auc: 1.0\n",
      "test auc: 1.0\n"
     ]
    }
   ],
   "source": [
    "from sklearn.metrics import roc_auc_score\n",
    "s.run(tf.global_variables_initializer())\n",
    "for i in range(5):\n",
    "    s.run(optimizer, {input_X: X_train, input_y: y_train})\n",
    "    loss_i = s.run(loss, {input_X: X_train, input_y: y_train})\n",
    "    print(\"loss at iter %i:%.4f\" % (i, loss_i))\n",
    "    print(\"train auc:\", roc_auc_score(y_train, s.run(predicted_y, {input_X:X_train})))\n",
    "    print(\"test auc:\", roc_auc_score(y_test, s.run(predicted_y, {input_X:X_test})))"
   ]
  },
  {
   "cell_type": "markdown",
   "metadata": {},
   "source": [
    "### Coursera submission"
   ]
  },
  {
   "cell_type": "code",
   "execution_count": 179,
   "metadata": {
    "collapsed": true
   },
   "outputs": [],
   "source": [
    "grade_submitter = grading.Grader(\"BJCiiY8sEeeCnhKCj4fcOA\")"
   ]
  },
  {
   "cell_type": "code",
   "execution_count": 180,
   "metadata": {
    "collapsed": true
   },
   "outputs": [],
   "source": [
    "test_weights = 1e-3 * np.fromiter(map(lambda x:\n",
    "    s.run(weird_psychotic_function, {my_scalar:x, my_vector:[1, 2, 3]}),\n",
    "                               0.1 * np.arange(1, X.shape[1] + 1)),\n",
    "                               count=X.shape[1], dtype=np.float32)[:, np.newaxis]"
   ]
  },
  {
   "cell_type": "markdown",
   "metadata": {},
   "source": [
    "First, test prediction and loss computation. This part doesn't require a fitted model."
   ]
  },
  {
   "cell_type": "code",
   "execution_count": 181,
   "metadata": {
    "collapsed": true
   },
   "outputs": [],
   "source": [
    "prediction_test = s.run(\n",
    "    predicted_y, {\n",
    "    input_X: X,\n",
    "    weights: test_weights,\n",
    "    b: 1e-1})"
   ]
  },
  {
   "cell_type": "code",
   "execution_count": 182,
   "metadata": {
    "collapsed": true
   },
   "outputs": [],
   "source": [
    "assert prediction_test.shape == (X.shape[0],),\\\n",
    "       \"Predictions must be a 1D array with length equal to the number \" \\\n",
    "       \"of examples in X_test\""
   ]
  },
  {
   "cell_type": "code",
   "execution_count": 183,
   "metadata": {
    "collapsed": true
   },
   "outputs": [],
   "source": [
    "grade_submitter.set_answer(\"0ENlN\", prediction_test)"
   ]
  },
  {
   "cell_type": "code",
   "execution_count": 184,
   "metadata": {
    "collapsed": true
   },
   "outputs": [],
   "source": [
    "loss_test = s.run(\n",
    "    loss, {\n",
    "        input_X: X[:100],\n",
    "        input_y: y[-100:],\n",
    "        weights: test_weights+1.21e-3,\n",
    "        b: -1e-1})\n",
    "# Yes, the X/y indices mistmach is intentional"
   ]
  },
  {
   "cell_type": "code",
   "execution_count": 185,
   "metadata": {
    "collapsed": true
   },
   "outputs": [],
   "source": [
    "grade_submitter.set_answer(\"mMVpM\", loss_test)"
   ]
  },
  {
   "cell_type": "code",
   "execution_count": 186,
   "metadata": {
    "collapsed": true
   },
   "outputs": [],
   "source": [
    "grade_submitter.set_answer(\"D16Rc\", roc_auc_score(y_test, s.run(predicted_y, {input_X:X_test})))"
   ]
  },
  {
   "cell_type": "markdown",
   "metadata": {},
   "source": [
    "Please use the credentials obtained from the Coursera assignment page."
   ]
  },
  {
   "cell_type": "code",
   "execution_count": 190,
   "metadata": {},
   "outputs": [
    {
     "name": "stdout",
     "output_type": "stream",
     "text": [
      "Submitted to Coursera platform. See results on assignment page!\n"
     ]
    }
   ],
   "source": [
    "grade_submitter.submit('quispecondorir@gmail.com', 'wHLowr9SQzL2LVD9')"
   ]
  },
  {
   "cell_type": "code",
   "execution_count": null,
   "metadata": {
    "collapsed": true
   },
   "outputs": [],
   "source": []
  }
 ],
 "metadata": {
  "kernelspec": {
   "display_name": "Python 3",
   "language": "python",
   "name": "python3"
  },
  "language_info": {
   "codemirror_mode": {
    "name": "ipython",
    "version": 3
   },
   "file_extension": ".py",
   "mimetype": "text/x-python",
   "name": "python",
   "nbconvert_exporter": "python",
   "pygments_lexer": "ipython3",
   "version": "3.6.0"
  }
 },
 "nbformat": 4,
 "nbformat_minor": 1
}
